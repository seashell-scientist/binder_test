{
 "cells": [
  {
   "cell_type": "markdown",
   "metadata": {},
   "source": [
    "***\n",
    "# Exploratory Data Analysis\n",
    "MSDS 7331-403, Lab 1  \n",
    "*Jenna Ford, Edward Fry, Christian Nava, and Jonathan Tan* \n",
    "***"
   ]
  },
  {
   "cell_type": "markdown",
   "metadata": {},
   "source": [
    "## Python Preparation and Dataset Loading"
   ]
  },
  {
   "cell_type": "code",
   "execution_count": 1,
   "metadata": {},
   "outputs": [],
   "source": [
    "# Data manipulation\n",
    "import numpy as np\n",
    "import pandas as pd\n",
    "\n",
    "# Plotting\n",
    "import seaborn as sns\n",
    "import matplotlib\n",
    "import matplotlib.pyplot as plt\n",
    "from plotly.offline import iplot_mpl\n",
    "\n",
    "# Preprocessing for dealing with categorical variables\n",
    "import sklearn\n",
    "from sklearn.preprocessing import LabelEncoder\n",
    "from sklearn.preprocessing import OneHotEncoder\n",
    "\n",
    "# Geospacial plotting\n",
    "import geopandas as gpd\n",
    "import json\n",
    "from bokeh.io import curdoc, output_notebook, show, output_file\n",
    "from bokeh.plotting import figure\n",
    "from bokeh.models import GeoJSONDataSource, LinearColorMapper, ColorBar, Slider, HoverTool\n",
    "from bokeh.palettes import brewer\n",
    "from bokeh.layouts import widgetbox, row, column\n",
    "\n",
    "# File system management\n",
    "import os.path\n",
    "\n",
    "# Supress Warnings\n",
    "import warnings\n",
    "warnings.filterwarnings('ignore')"
   ]
  },
  {
   "cell_type": "code",
   "execution_count": 2,
   "metadata": {},
   "outputs": [],
   "source": [
    "# Constants\n",
    "DATA_SOURCE = 'D:/SMU/DS 7331 Machine Learning/machine-learning-i-group-project/Data/Arrest_Data_from_2010_to_Present.csv'\n",
    "\n",
    "# Options\n",
    "pd.set_option('float_format', '{:.2f}'.format)  # Reign in the scientific notation for reasonable values\n",
    "\n",
    "# Load data for analysis; only read if needed because the import can take a long time\n",
    "try:\n",
    "    if len(df.index) < 1:\n",
    "        df_raw = pd.read_csv(DATA_SOURCE) # If we get here, the dataframe was empty\n",
    "except:   \n",
    "    df_raw = pd.read_csv(DATA_SOURCE) # If we get here, the dataframe did not exist\n",
    "    "
   ]
  },
  {
   "cell_type": "code",
   "execution_count": 3,
   "metadata": {},
   "outputs": [
    {
     "name": "stdout",
     "output_type": "stream",
     "text": [
      "The data set has 1,324,973 rows and 17 columns\n"
     ]
    }
   ],
   "source": [
    "# make copy of dataset\n",
    "df = df_raw\n",
    "print(\"The data set has {:,} rows and {:,} columns\".format(*df.shape))\n"
   ]
  },
  {
   "cell_type": "markdown",
   "metadata": {},
   "source": [
    "## Business Understanding\n",
    "*(10 points)*\n",
    "\n",
    "*Describe the purpose of the data set you selected (i.e., why was this data collected in the first place?). Describe how you would define and measure the outcomes from the dataset. That is, why is this data important and how do you know if you have mined useful knowledge from the dataset? How would you measure the effectiveness of a good prediction algorithm? Be specific.*\n",
    "\n",
    "Our group has chosen to use a dataset comprising of Los Angeles arrest incidents dating back to 2010. We obtained the data from the [City of Los Angeles open data](https://data.lacity.org/A-Safe-City/Arrest-Data-from-2010-to-Present/yru6-6re4). This datset contains information about the date, time and location of the incident, demographic data of the person arrested, and information about the type of incident.\n",
    "\n",
    "While the purpose of the dataset was not specified in the information available to us, we have chosen to classify the type of arrest (Felony, Misdemeanor, etc). We feel that being able to classify arrest type could help in prioritizing dispatch calls, especially when there are more calls than officers available to respond. We assume that arrest type is an indicator of the severity of the incident. It is also worth noting that most of the data available for the classification would be available to the dispatcher. For example, someone placing a call to 911 would most likely have a basic description of the offender such as gender, approximate age and ethnicity. The caller would also know the location of the incident. \n",
    "\n",
    "We will measure effectiveness of our classification model by looking at accuracy. Arrest type has 4 distinct values, indicating a 25% chance of picking the correct arrest type at random. A successful model ideally would exceed the ability of a dispatcher to correctly identify the arrest type. Since we do not have data available for this, we will use 25% as the cut-off for identifying if the model is successful."
   ]
  },
  {
   "cell_type": "markdown",
   "metadata": {},
   "source": [
    "## Data Understanding\n",
    "\n",
    "### Data Meaning Type\n",
    "*(10 points)*  \n",
    "*Describe the meaning and type of data (scale, values, etc.) for each\n",
    "attribute in the data file.*\n",
    "\n",
    "\n",
    "The arrest dataset consists of 17 attributes. Attribute descriptions are provided by the [City of Los Angeles open data](https://data.lacity.org/A-Safe-City/Arrest-Data-from-2010-to-Present/yru6-6re4) and [Kaggle](https://www.kaggle.com/cityofLA/los-angeles-crime-arrest-data). Descriptions are displayed in Table 1 below:\n",
    "\n",
    "**Table 1: Arrest Dataset - Attribute Descriptions**\n",
    "\n",
    "| Attribute | Description |\n",
    "| :--- | :--- |\n",
    "| **Report ID** | Unique ID for the arrest |\n",
    "| **Arrest Date** | Date in MM/DD/YYYY format |\n",
    "| **Time** | In 24-hour military time |\n",
    "| **Area ID** | The LAPD has 21 Community Police Stations referred to as Geographic Areas within the department. These Geographic Areas are sequentially numbered from 1-21. (Also called Precincts). |\n",
    "| **Area Name** | The 21 Geographic Areas or Patrol Divisions are also given a name designation that references a landmark or the surrounding community that it is responsible for. For example 77th Street Division is located at the intersection of South Broadway and 77th Street, serving neighborhoods in South Los Angeles. |\n",
    "| **Reporting District** | A four-digit code that represents a sub-area within a Geographic Area. All arrest records reference the \"RD\" that it occurred in for statistical comparisons. |\n",
    "| **Age** | Two character numeric.|\n",
    "| **Sex Code** | F - Female; M - Male|\n",
    "| **Descent Code** | Descent Code: A - Other Asian; B - Black; C - Chinese; D - Cambodian; F - Filipino; G - Guamanian; H - Hispanic/Latin/Mexican; I - American Indian/Alaskan Native; J - Japanese; K - Korean; L - Laotian; O - Other; P - Pacific Islander S - Samoan; U - Hawaiian; V - Vietnamese; W - White; X - Unknown; Z - Asian Indian |\n",
    "| **Charge Group Code** | Category of arrest charge. |\n",
    "| **Charge Group Description** | Defines the Charge Group Code provided. |\n",
    "| **Arrest Type Code** | A code to indicate the type of charge the individual was arrested for. D - Dependent; F - Felony; I - Infraction; M - Misdemeanor; O - Other |\n",
    "| **Charge** | The charge the individual was arrested for. |\n",
    "| **Charge Description** | Defines the Charge provided. |\n",
    "| **Address** | Street address of crime incident rounded to the nearest hundred block to maintain anonymity. |\n",
    "| **Cross Street** | Cross Street of rounded Address. |\n",
    "| **Location** | The location where the crime incident occurred. Actual address is omitted for confidentiality. XY coordinates reflect the nearest 100 block. |\n",
    "\n"
   ]
  },
  {
   "cell_type": "markdown",
   "metadata": {},
   "source": [
    "As part of our analysis we also use geospatial files for reporting districts. These files are provided by [LA City GeoHub](http://geohub.lacity.org/datasets/4398360b1a0242b78904f46b3786ae73_0). Several fields are available in these files, in addition to geometry. We join the datasets together using Reporting District as the key.\n",
    "\n",
    "**Table 2: Geospatial Datasets - Attribute Descriptions**\n",
    "\n",
    "| Attribute | Description |\n",
    "| :--- | :--- |\n",
    "| **BUREAU** | LAPD Bureau (collection of Precincts). |\n",
    "| **PREC** | 2-digit Precinct code (collection of Reporting Districts). |\n",
    "| **REPDIST** | 4-digit Reporting Ristrict code. |"
   ]
  },
  {
   "cell_type": "markdown",
   "metadata": {},
   "source": [
    "### Data Quality\n",
    "*(15 points)*  \n",
    "*Verify data quality: Explain any missing values, duplicate data, and outliers. Are those mistakes? How do you deal with these problems? Be specific.*\n",
    "\n",
    "Quality of the data is of concern for the arrest incident data because this data is transcribed from arrest reports. The source notes that there there are also fields with missing values. \n",
    "\n",
    "The table below quickly highlights a formatting issue with `Time`, missing data issues with `Charge Group Description`, `Charge Description` and `Cross Street`, and an issue with `Age` (value of 2 seen in first 5 rows). A detailed analysis of duplicate data, missing data and outliers follows. We also note how we handle issues that we find.\n"
   ]
  },
  {
   "cell_type": "code",
   "execution_count": 4,
   "metadata": {
    "scrolled": true
   },
   "outputs": [
    {
     "data": {
      "text/html": [
       "<div>\n",
       "<style scoped>\n",
       "    .dataframe tbody tr th:only-of-type {\n",
       "        vertical-align: middle;\n",
       "    }\n",
       "\n",
       "    .dataframe tbody tr th {\n",
       "        vertical-align: top;\n",
       "    }\n",
       "\n",
       "    .dataframe thead th {\n",
       "        text-align: right;\n",
       "    }\n",
       "</style>\n",
       "<table border=\"1\" class=\"dataframe\">\n",
       "  <thead>\n",
       "    <tr style=\"text-align: right;\">\n",
       "      <th></th>\n",
       "      <th>Report ID</th>\n",
       "      <th>Arrest Date</th>\n",
       "      <th>Time</th>\n",
       "      <th>Area ID</th>\n",
       "      <th>Area Name</th>\n",
       "      <th>Reporting District</th>\n",
       "      <th>Age</th>\n",
       "      <th>Sex Code</th>\n",
       "      <th>Descent Code</th>\n",
       "      <th>Charge Group Code</th>\n",
       "      <th>Charge Group Description</th>\n",
       "      <th>Arrest Type Code</th>\n",
       "      <th>Charge</th>\n",
       "      <th>Charge Description</th>\n",
       "      <th>Address</th>\n",
       "      <th>Cross Street</th>\n",
       "      <th>Location</th>\n",
       "    </tr>\n",
       "  </thead>\n",
       "  <tbody>\n",
       "    <tr>\n",
       "      <td>0</td>\n",
       "      <td>191811472</td>\n",
       "      <td>05/03/2019</td>\n",
       "      <td>1700.00</td>\n",
       "      <td>18</td>\n",
       "      <td>Southeast</td>\n",
       "      <td>1802</td>\n",
       "      <td>23</td>\n",
       "      <td>F</td>\n",
       "      <td>B</td>\n",
       "      <td>nan</td>\n",
       "      <td>NaN</td>\n",
       "      <td>M</td>\n",
       "      <td>653.22 PC</td>\n",
       "      <td>NaN</td>\n",
       "      <td>91ST</td>\n",
       "      <td>FIGUEROA</td>\n",
       "      <td>(33.9543, -118.2827)</td>\n",
       "    </tr>\n",
       "    <tr>\n",
       "      <td>1</td>\n",
       "      <td>5614161</td>\n",
       "      <td>04/29/2019</td>\n",
       "      <td>1040.00</td>\n",
       "      <td>8</td>\n",
       "      <td>West LA</td>\n",
       "      <td>842</td>\n",
       "      <td>41</td>\n",
       "      <td>M</td>\n",
       "      <td>H</td>\n",
       "      <td>3.00</td>\n",
       "      <td>Robbery</td>\n",
       "      <td>F</td>\n",
       "      <td>211PC</td>\n",
       "      <td>ROBBERY</td>\n",
       "      <td>11600    WILSHIRE                     BL</td>\n",
       "      <td>NaN</td>\n",
       "      <td>(34.0508, -118.4592)</td>\n",
       "    </tr>\n",
       "    <tr>\n",
       "      <td>2</td>\n",
       "      <td>5806609</td>\n",
       "      <td>11/23/2019</td>\n",
       "      <td>1830.00</td>\n",
       "      <td>4</td>\n",
       "      <td>Hollenbeck</td>\n",
       "      <td>457</td>\n",
       "      <td>23</td>\n",
       "      <td>F</td>\n",
       "      <td>H</td>\n",
       "      <td>3.00</td>\n",
       "      <td>Robbery</td>\n",
       "      <td>F</td>\n",
       "      <td>211PC</td>\n",
       "      <td>ROBBERY</td>\n",
       "      <td>FICKETT</td>\n",
       "      <td>CINCINNATI</td>\n",
       "      <td>(34.0477, -118.2047)</td>\n",
       "    </tr>\n",
       "    <tr>\n",
       "      <td>3</td>\n",
       "      <td>5615197</td>\n",
       "      <td>04/30/2019</td>\n",
       "      <td>615.00</td>\n",
       "      <td>6</td>\n",
       "      <td>Hollywood</td>\n",
       "      <td>663</td>\n",
       "      <td>27</td>\n",
       "      <td>M</td>\n",
       "      <td>O</td>\n",
       "      <td>5.00</td>\n",
       "      <td>Burglary</td>\n",
       "      <td>F</td>\n",
       "      <td>459PC</td>\n",
       "      <td>BURGLARY</td>\n",
       "      <td>LA BREA</td>\n",
       "      <td>LEXINGTON</td>\n",
       "      <td>(34.0907, -118.3384)</td>\n",
       "    </tr>\n",
       "    <tr>\n",
       "      <td>4</td>\n",
       "      <td>5615701</td>\n",
       "      <td>04/30/2019</td>\n",
       "      <td>1100.00</td>\n",
       "      <td>9</td>\n",
       "      <td>Van Nuys</td>\n",
       "      <td>901</td>\n",
       "      <td>2</td>\n",
       "      <td>F</td>\n",
       "      <td>H</td>\n",
       "      <td>nan</td>\n",
       "      <td>NaN</td>\n",
       "      <td>D</td>\n",
       "      <td>300(B)WIC</td>\n",
       "      <td>NaN</td>\n",
       "      <td>RAYMER</td>\n",
       "      <td>SEPULVEDA                    BL</td>\n",
       "      <td>(34.2149, -118.4674)</td>\n",
       "    </tr>\n",
       "  </tbody>\n",
       "</table>\n",
       "</div>"
      ],
      "text/plain": [
       "   Report ID Arrest Date    Time  Area ID   Area Name  Reporting District  \\\n",
       "0  191811472  05/03/2019 1700.00       18   Southeast                1802   \n",
       "1    5614161  04/29/2019 1040.00        8     West LA                 842   \n",
       "2    5806609  11/23/2019 1830.00        4  Hollenbeck                 457   \n",
       "3    5615197  04/30/2019  615.00        6   Hollywood                 663   \n",
       "4    5615701  04/30/2019 1100.00        9    Van Nuys                 901   \n",
       "\n",
       "   Age Sex Code Descent Code  Charge Group Code Charge Group Description  \\\n",
       "0   23        F            B                nan                      NaN   \n",
       "1   41        M            H               3.00                  Robbery   \n",
       "2   23        F            H               3.00                  Robbery   \n",
       "3   27        M            O               5.00                 Burglary   \n",
       "4    2        F            H                nan                      NaN   \n",
       "\n",
       "  Arrest Type Code     Charge Charge Description  \\\n",
       "0                M  653.22 PC                NaN   \n",
       "1                F      211PC            ROBBERY   \n",
       "2                F      211PC            ROBBERY   \n",
       "3                F      459PC           BURGLARY   \n",
       "4                D  300(B)WIC                NaN   \n",
       "\n",
       "                                    Address                     Cross Street  \\\n",
       "0                                      91ST                         FIGUEROA   \n",
       "1  11600    WILSHIRE                     BL                              NaN   \n",
       "2                                   FICKETT                       CINCINNATI   \n",
       "3                                   LA BREA                        LEXINGTON   \n",
       "4                                    RAYMER  SEPULVEDA                    BL   \n",
       "\n",
       "               Location  \n",
       "0  (33.9543, -118.2827)  \n",
       "1  (34.0508, -118.4592)  \n",
       "2  (34.0477, -118.2047)  \n",
       "3  (34.0907, -118.3384)  \n",
       "4  (34.2149, -118.4674)  "
      ]
     },
     "execution_count": 4,
     "metadata": {},
     "output_type": "execute_result"
    }
   ],
   "source": [
    "df.head()"
   ]
  },
  {
   "cell_type": "markdown",
   "metadata": {},
   "source": [
    "The information provided below shows the data type for each attribute, in addition to indicating if there are missing values. `Time` needs to be stored as a time value, instead of float64. `Area ID` and `Reporting District`, while comprised of numerical digits, are categorical variables and need to be stored as objects."
   ]
  },
  {
   "cell_type": "code",
   "execution_count": 5,
   "metadata": {},
   "outputs": [
    {
     "name": "stdout",
     "output_type": "stream",
     "text": [
      "<class 'pandas.core.frame.DataFrame'>\n",
      "RangeIndex: 1324973 entries, 0 to 1324972\n",
      "Data columns (total 17 columns):\n",
      "Report ID                   1324973 non-null int64\n",
      "Arrest Date                 1324973 non-null object\n",
      "Time                        1324777 non-null float64\n",
      "Area ID                     1324973 non-null int64\n",
      "Area Name                   1324973 non-null object\n",
      "Reporting District          1324973 non-null int64\n",
      "Age                         1324973 non-null int64\n",
      "Sex Code                    1324973 non-null object\n",
      "Descent Code                1324973 non-null object\n",
      "Charge Group Code           1235472 non-null float64\n",
      "Charge Group Description    1234943 non-null object\n",
      "Arrest Type Code            1324973 non-null object\n",
      "Charge                      1324973 non-null object\n",
      "Charge Description          1235581 non-null object\n",
      "Address                     1324973 non-null object\n",
      "Cross Street                754763 non-null object\n",
      "Location                    1324973 non-null object\n",
      "dtypes: float64(2), int64(4), object(11)\n",
      "memory usage: 171.8+ MB\n"
     ]
    }
   ],
   "source": [
    "df.info()"
   ]
  },
  {
   "cell_type": "markdown",
   "metadata": {},
   "source": [
    "#### Duplicate Data\n",
    "\n",
    "We want to make sure we have unique observations, i.e., no two records have the same values for all attributes. This will reduce the risk of biased estimates. In this dataset a duplicate record would lead to further inspection as it is unlikely two arrests were made in the exact same location, on the same date and time, for the same charge, for two individuals of the same age, gender, and ethnic descent. A check for duplicate records verifies our dataset contains unique obervations.  "
   ]
  },
  {
   "cell_type": "code",
   "execution_count": 6,
   "metadata": {},
   "outputs": [
    {
     "data": {
      "text/plain": [
       "0"
      ]
     },
     "execution_count": 6,
     "metadata": {},
     "output_type": "execute_result"
    }
   ],
   "source": [
    "# check for duplicate records\n",
    "df.duplicated().sum()"
   ]
  },
  {
   "cell_type": "markdown",
   "metadata": {},
   "source": [
    "#### Missing Values and Data Cleanup\n",
    "\n",
    "The table below shows how many observations have missing values and the percentage of values that are missing, by column."
   ]
  },
  {
   "cell_type": "code",
   "execution_count": 7,
   "metadata": {},
   "outputs": [],
   "source": [
    "def missing_data(data):\n",
    "    total = data.isnull().sum().sort_values(ascending = False)\n",
    "    percent = (data.isnull().sum()/data.isnull().count()*100).sort_values(ascending = False)\n",
    "    return pd.concat([total, percent], axis = 1, keys = ['Total', 'Percent'])"
   ]
  },
  {
   "cell_type": "code",
   "execution_count": 8,
   "metadata": {},
   "outputs": [
    {
     "data": {
      "text/html": [
       "<div>\n",
       "<style scoped>\n",
       "    .dataframe tbody tr th:only-of-type {\n",
       "        vertical-align: middle;\n",
       "    }\n",
       "\n",
       "    .dataframe tbody tr th {\n",
       "        vertical-align: top;\n",
       "    }\n",
       "\n",
       "    .dataframe thead th {\n",
       "        text-align: right;\n",
       "    }\n",
       "</style>\n",
       "<table border=\"1\" class=\"dataframe\">\n",
       "  <thead>\n",
       "    <tr style=\"text-align: right;\">\n",
       "      <th></th>\n",
       "      <th>Total</th>\n",
       "      <th>Percent</th>\n",
       "    </tr>\n",
       "  </thead>\n",
       "  <tbody>\n",
       "    <tr>\n",
       "      <td>Cross Street</td>\n",
       "      <td>570210</td>\n",
       "      <td>43.04</td>\n",
       "    </tr>\n",
       "    <tr>\n",
       "      <td>Charge Group Description</td>\n",
       "      <td>90030</td>\n",
       "      <td>6.79</td>\n",
       "    </tr>\n",
       "    <tr>\n",
       "      <td>Charge Group Code</td>\n",
       "      <td>89501</td>\n",
       "      <td>6.75</td>\n",
       "    </tr>\n",
       "    <tr>\n",
       "      <td>Charge Description</td>\n",
       "      <td>89392</td>\n",
       "      <td>6.75</td>\n",
       "    </tr>\n",
       "    <tr>\n",
       "      <td>Time</td>\n",
       "      <td>196</td>\n",
       "      <td>0.01</td>\n",
       "    </tr>\n",
       "    <tr>\n",
       "      <td>Location</td>\n",
       "      <td>0</td>\n",
       "      <td>0.00</td>\n",
       "    </tr>\n",
       "    <tr>\n",
       "      <td>Reporting District</td>\n",
       "      <td>0</td>\n",
       "      <td>0.00</td>\n",
       "    </tr>\n",
       "    <tr>\n",
       "      <td>Arrest Date</td>\n",
       "      <td>0</td>\n",
       "      <td>0.00</td>\n",
       "    </tr>\n",
       "    <tr>\n",
       "      <td>Area ID</td>\n",
       "      <td>0</td>\n",
       "      <td>0.00</td>\n",
       "    </tr>\n",
       "    <tr>\n",
       "      <td>Area Name</td>\n",
       "      <td>0</td>\n",
       "      <td>0.00</td>\n",
       "    </tr>\n",
       "    <tr>\n",
       "      <td>Descent Code</td>\n",
       "      <td>0</td>\n",
       "      <td>0.00</td>\n",
       "    </tr>\n",
       "    <tr>\n",
       "      <td>Age</td>\n",
       "      <td>0</td>\n",
       "      <td>0.00</td>\n",
       "    </tr>\n",
       "    <tr>\n",
       "      <td>Sex Code</td>\n",
       "      <td>0</td>\n",
       "      <td>0.00</td>\n",
       "    </tr>\n",
       "    <tr>\n",
       "      <td>Arrest Type Code</td>\n",
       "      <td>0</td>\n",
       "      <td>0.00</td>\n",
       "    </tr>\n",
       "    <tr>\n",
       "      <td>Charge</td>\n",
       "      <td>0</td>\n",
       "      <td>0.00</td>\n",
       "    </tr>\n",
       "    <tr>\n",
       "      <td>Address</td>\n",
       "      <td>0</td>\n",
       "      <td>0.00</td>\n",
       "    </tr>\n",
       "    <tr>\n",
       "      <td>Report ID</td>\n",
       "      <td>0</td>\n",
       "      <td>0.00</td>\n",
       "    </tr>\n",
       "  </tbody>\n",
       "</table>\n",
       "</div>"
      ],
      "text/plain": [
       "                           Total  Percent\n",
       "Cross Street              570210    43.04\n",
       "Charge Group Description   90030     6.79\n",
       "Charge Group Code          89501     6.75\n",
       "Charge Description         89392     6.75\n",
       "Time                         196     0.01\n",
       "Location                       0     0.00\n",
       "Reporting District             0     0.00\n",
       "Arrest Date                    0     0.00\n",
       "Area ID                        0     0.00\n",
       "Area Name                      0     0.00\n",
       "Descent Code                   0     0.00\n",
       "Age                            0     0.00\n",
       "Sex Code                       0     0.00\n",
       "Arrest Type Code               0     0.00\n",
       "Charge                         0     0.00\n",
       "Address                        0     0.00\n",
       "Report ID                      0     0.00"
      ]
     },
     "execution_count": 8,
     "metadata": {},
     "output_type": "execute_result"
    }
   ],
   "source": [
    "missing_data(df)"
   ]
  },
  {
   "cell_type": "markdown",
   "metadata": {},
   "source": [
    "##### Missing Values and Data Cleanup: Cross Street\n",
    "\n",
    "43% of observations have missing data for the `Cross Street` attribute. Due to the other location based data available (`Area ID` and `Reporting District`) and the percentage of missing values for `Cross Street`, we have decided to not use `Cross Street` and `Address` in our model."
   ]
  },
  {
   "cell_type": "markdown",
   "metadata": {},
   "source": [
    "##### Missing Values and Data Cleanup: Time\n",
    "\n",
    "196 observations are missing `Time`. The statistics provided below highlight another issue: the presence of 24:00. 24:00 is an issue because the 24 clock goes to 23:59 and then starts over at 0:00. The source notes that 0:00 may be filled in for missing data, so any records with 0:00 for `Time` are suspect. "
   ]
  },
  {
   "cell_type": "code",
   "execution_count": 9,
   "metadata": {},
   "outputs": [
    {
     "data": {
      "text/plain": [
       "count    1324777.0\n",
       "mean        1386.9\n",
       "std          662.9\n",
       "min            0.0\n",
       "25%          945.0\n",
       "50%         1510.0\n",
       "75%         1930.0\n",
       "max         2400.0\n",
       "Name: Time, dtype: object"
      ]
     },
     "execution_count": 9,
     "metadata": {},
     "output_type": "execute_result"
    }
   ],
   "source": [
    "df.Time.describe().apply(lambda x: '%.1f' % x) # suppresses scientific notation and formats to 1 decimal place"
   ]
  },
  {
   "cell_type": "markdown",
   "metadata": {},
   "source": [
    "Upon further inspection, we found there were three observations where the time is 0.0 and 102 where the time is 24.0."
   ]
  },
  {
   "cell_type": "code",
   "execution_count": 10,
   "metadata": {},
   "outputs": [
    {
     "data": {
      "text/plain": [
       "(3, 17)"
      ]
     },
     "execution_count": 10,
     "metadata": {},
     "output_type": "execute_result"
    }
   ],
   "source": [
    "# select rows where Time = 0\n",
    "df.loc[df['Time']== 0].shape"
   ]
  },
  {
   "cell_type": "code",
   "execution_count": 11,
   "metadata": {},
   "outputs": [
    {
     "data": {
      "text/plain": [
       "(102, 17)"
      ]
     },
     "execution_count": 11,
     "metadata": {},
     "output_type": "execute_result"
    }
   ],
   "source": [
    "# select rows where Time = 24\n",
    "df.loc[df['Time']== 24].shape"
   ]
  },
  {
   "cell_type": "markdown",
   "metadata": {},
   "source": [
    "We will treat 0.0 and missing values as missing. Due to the large number of records in the dataset we have chosen to filter these out of the data instead of inputing them to another value. We input 24:00 to 0:00 due to the reasonable assumption that these values are equal."
   ]
  },
  {
   "cell_type": "code",
   "execution_count": 12,
   "metadata": {},
   "outputs": [
    {
     "name": "stdout",
     "output_type": "stream",
     "text": [
      "The data set has 1,324,774 rows and 18 columns after filtering on Time.\n"
     ]
    }
   ],
   "source": [
    "#filter out 0 and missing\n",
    "df = df[df['Time'] != 0]\n",
    "df['Time'] = df['Time'].astype(str) \n",
    "df = df[df['Time'] != 'nan']\n",
    "\n",
    "# Convert float to string. Get rid of decimals. Replace missing or invalid values with '0000'.\n",
    "df['Time'] = df['Time'].astype(str).str.split(\".\", expand = True)[0].replace(to_replace = ['2400','nan'], value = '0000') \n",
    "\n",
    "# Fill time column with leading zeros to have 4 characters total\n",
    "df['Time'] = df['Time'].apply(lambda x: '{0:0>4}'.format(x))\n",
    "\n",
    "# Add colon to Time values by converting attribute to a datetime variable \n",
    "df['Time'] = pd.to_datetime(df['Time'], format = '%H%M').dt.time\n",
    "\n",
    "#Get hour\n",
    "df['Hour'] = pd.to_datetime(df['Time'], format='%H:%M:%S').dt.hour\n",
    "\n",
    "\n",
    "print(\"The data set has {:,} rows and {:,} columns after filtering on Time.\".format(*df.shape))"
   ]
  },
  {
   "cell_type": "markdown",
   "metadata": {},
   "source": [
    "#### Additional Attributes\n",
    "\n",
    "We would like to investigate whether day of the week, month and year have an impact on arrests. Below we create individual columns for easier analysis. "
   ]
  },
  {
   "cell_type": "code",
   "execution_count": 13,
   "metadata": {},
   "outputs": [],
   "source": [
    "# Convert Arrest Date to datetime\n",
    "df['Arrest Date'] = pd.to_datetime(df['Arrest Date'])\n",
    "\n",
    "# Extract year, month, and day of week and add to dataframe as new attributes\n",
    "df['arrest_year']= df['Arrest Date'].dt.year\n",
    "df['arrest_month']= df['Arrest Date'].dt.month\n",
    "df['arrest_day_of_week'] = df['Arrest Date'].dt.weekday_name\n",
    "\n",
    "df2 = df.copy() #using report ID for graph later"
   ]
  },
  {
   "cell_type": "markdown",
   "metadata": {},
   "source": [
    "#### Remove Unecessary Attributes\n",
    "\n",
    "`Report ID` is a unique identifier for each arrest incident. As such, this attribute is not useful for our analysis and will be removed.\n",
    "\n",
    "For now we leave in groups of columns such as `Charge Group Description` and `Charge Group Code`. These groups of columns provide the same information and will not both be included in modeling. The description columns are useful while exploring the data."
   ]
  },
  {
   "cell_type": "code",
   "execution_count": 14,
   "metadata": {},
   "outputs": [],
   "source": [
    "# remove Report ID column\n",
    "df.drop(['Report ID'], axis=1, inplace=True)"
   ]
  },
  {
   "cell_type": "markdown",
   "metadata": {},
   "source": [
    "#### Correcting Data Types\n",
    "\n",
    "The data types displayed earlier still need some adjusting. `Age` needs to be an integer and `Reporting ID`, `Area ID` and `Charge Group Code` need to be categorical."
   ]
  },
  {
   "cell_type": "code",
   "execution_count": 15,
   "metadata": {},
   "outputs": [],
   "source": [
    "# Change data types\n",
    "df['Age'] = df['Age'].astype(np.int8)\n",
    "df['Reporting District'] = df['Reporting District'].astype(np.str)\n",
    "df['Area ID'] = df['Area ID'].astype(np.str)\n",
    "df['Charge Group Code'] = df['Charge Group Code'].astype(np.str)"
   ]
  },
  {
   "cell_type": "code",
   "execution_count": 16,
   "metadata": {},
   "outputs": [
    {
     "name": "stdout",
     "output_type": "stream",
     "text": [
      "<class 'pandas.core.frame.DataFrame'>\n",
      "Int64Index: 1324774 entries, 0 to 1324972\n",
      "Data columns (total 20 columns):\n",
      "Arrest Date                 1324774 non-null datetime64[ns]\n",
      "Time                        1324774 non-null object\n",
      "Area ID                     1324774 non-null object\n",
      "Area Name                   1324774 non-null object\n",
      "Reporting District          1324774 non-null object\n",
      "Age                         1324774 non-null int8\n",
      "Sex Code                    1324774 non-null object\n",
      "Descent Code                1324774 non-null object\n",
      "Charge Group Code           1324774 non-null object\n",
      "Charge Group Description    1234800 non-null object\n",
      "Arrest Type Code            1324774 non-null object\n",
      "Charge                      1324774 non-null object\n",
      "Charge Description          1235438 non-null object\n",
      "Address                     1324774 non-null object\n",
      "Cross Street                754619 non-null object\n",
      "Location                    1324774 non-null object\n",
      "Hour                        1324774 non-null int64\n",
      "arrest_year                 1324774 non-null int64\n",
      "arrest_month                1324774 non-null int64\n",
      "arrest_day_of_week          1324774 non-null object\n",
      "dtypes: datetime64[ns](1), int64(3), int8(1), object(15)\n",
      "memory usage: 203.4+ MB\n"
     ]
    }
   ],
   "source": [
    "df.info()"
   ]
  },
  {
   "cell_type": "markdown",
   "metadata": {},
   "source": [
    "#### Clean Dataset\n",
    "\n",
    "The table below shows the first 5 observations in the clean dataset. Note that for now we have not discussed reasonable ages found in the dataset. This will be addressed in the Explore Joint Attrubtes Section because we found interesting interactions we want to duscuss."
   ]
  },
  {
   "cell_type": "code",
   "execution_count": 17,
   "metadata": {},
   "outputs": [
    {
     "data": {
      "text/html": [
       "<div>\n",
       "<style scoped>\n",
       "    .dataframe tbody tr th:only-of-type {\n",
       "        vertical-align: middle;\n",
       "    }\n",
       "\n",
       "    .dataframe tbody tr th {\n",
       "        vertical-align: top;\n",
       "    }\n",
       "\n",
       "    .dataframe thead th {\n",
       "        text-align: right;\n",
       "    }\n",
       "</style>\n",
       "<table border=\"1\" class=\"dataframe\">\n",
       "  <thead>\n",
       "    <tr style=\"text-align: right;\">\n",
       "      <th></th>\n",
       "      <th>Arrest Date</th>\n",
       "      <th>Time</th>\n",
       "      <th>Area ID</th>\n",
       "      <th>Area Name</th>\n",
       "      <th>Reporting District</th>\n",
       "      <th>Age</th>\n",
       "      <th>Sex Code</th>\n",
       "      <th>Descent Code</th>\n",
       "      <th>Charge Group Code</th>\n",
       "      <th>Charge Group Description</th>\n",
       "      <th>Arrest Type Code</th>\n",
       "      <th>Charge</th>\n",
       "      <th>Charge Description</th>\n",
       "      <th>Address</th>\n",
       "      <th>Cross Street</th>\n",
       "      <th>Location</th>\n",
       "      <th>Hour</th>\n",
       "      <th>arrest_year</th>\n",
       "      <th>arrest_month</th>\n",
       "      <th>arrest_day_of_week</th>\n",
       "    </tr>\n",
       "  </thead>\n",
       "  <tbody>\n",
       "    <tr>\n",
       "      <td>0</td>\n",
       "      <td>2019-05-03</td>\n",
       "      <td>17:00:00</td>\n",
       "      <td>18</td>\n",
       "      <td>Southeast</td>\n",
       "      <td>1802</td>\n",
       "      <td>23</td>\n",
       "      <td>F</td>\n",
       "      <td>B</td>\n",
       "      <td>nan</td>\n",
       "      <td>NaN</td>\n",
       "      <td>M</td>\n",
       "      <td>653.22 PC</td>\n",
       "      <td>NaN</td>\n",
       "      <td>91ST</td>\n",
       "      <td>FIGUEROA</td>\n",
       "      <td>(33.9543, -118.2827)</td>\n",
       "      <td>17</td>\n",
       "      <td>2019</td>\n",
       "      <td>5</td>\n",
       "      <td>Friday</td>\n",
       "    </tr>\n",
       "    <tr>\n",
       "      <td>1</td>\n",
       "      <td>2019-04-29</td>\n",
       "      <td>10:40:00</td>\n",
       "      <td>8</td>\n",
       "      <td>West LA</td>\n",
       "      <td>842</td>\n",
       "      <td>41</td>\n",
       "      <td>M</td>\n",
       "      <td>H</td>\n",
       "      <td>3.0</td>\n",
       "      <td>Robbery</td>\n",
       "      <td>F</td>\n",
       "      <td>211PC</td>\n",
       "      <td>ROBBERY</td>\n",
       "      <td>11600    WILSHIRE                     BL</td>\n",
       "      <td>NaN</td>\n",
       "      <td>(34.0508, -118.4592)</td>\n",
       "      <td>10</td>\n",
       "      <td>2019</td>\n",
       "      <td>4</td>\n",
       "      <td>Monday</td>\n",
       "    </tr>\n",
       "    <tr>\n",
       "      <td>2</td>\n",
       "      <td>2019-11-23</td>\n",
       "      <td>18:30:00</td>\n",
       "      <td>4</td>\n",
       "      <td>Hollenbeck</td>\n",
       "      <td>457</td>\n",
       "      <td>23</td>\n",
       "      <td>F</td>\n",
       "      <td>H</td>\n",
       "      <td>3.0</td>\n",
       "      <td>Robbery</td>\n",
       "      <td>F</td>\n",
       "      <td>211PC</td>\n",
       "      <td>ROBBERY</td>\n",
       "      <td>FICKETT</td>\n",
       "      <td>CINCINNATI</td>\n",
       "      <td>(34.0477, -118.2047)</td>\n",
       "      <td>18</td>\n",
       "      <td>2019</td>\n",
       "      <td>11</td>\n",
       "      <td>Saturday</td>\n",
       "    </tr>\n",
       "    <tr>\n",
       "      <td>3</td>\n",
       "      <td>2019-04-30</td>\n",
       "      <td>06:15:00</td>\n",
       "      <td>6</td>\n",
       "      <td>Hollywood</td>\n",
       "      <td>663</td>\n",
       "      <td>27</td>\n",
       "      <td>M</td>\n",
       "      <td>O</td>\n",
       "      <td>5.0</td>\n",
       "      <td>Burglary</td>\n",
       "      <td>F</td>\n",
       "      <td>459PC</td>\n",
       "      <td>BURGLARY</td>\n",
       "      <td>LA BREA</td>\n",
       "      <td>LEXINGTON</td>\n",
       "      <td>(34.0907, -118.3384)</td>\n",
       "      <td>6</td>\n",
       "      <td>2019</td>\n",
       "      <td>4</td>\n",
       "      <td>Tuesday</td>\n",
       "    </tr>\n",
       "    <tr>\n",
       "      <td>4</td>\n",
       "      <td>2019-04-30</td>\n",
       "      <td>11:00:00</td>\n",
       "      <td>9</td>\n",
       "      <td>Van Nuys</td>\n",
       "      <td>901</td>\n",
       "      <td>2</td>\n",
       "      <td>F</td>\n",
       "      <td>H</td>\n",
       "      <td>nan</td>\n",
       "      <td>NaN</td>\n",
       "      <td>D</td>\n",
       "      <td>300(B)WIC</td>\n",
       "      <td>NaN</td>\n",
       "      <td>RAYMER</td>\n",
       "      <td>SEPULVEDA                    BL</td>\n",
       "      <td>(34.2149, -118.4674)</td>\n",
       "      <td>11</td>\n",
       "      <td>2019</td>\n",
       "      <td>4</td>\n",
       "      <td>Tuesday</td>\n",
       "    </tr>\n",
       "  </tbody>\n",
       "</table>\n",
       "</div>"
      ],
      "text/plain": [
       "  Arrest Date      Time Area ID   Area Name Reporting District  Age Sex Code  \\\n",
       "0  2019-05-03  17:00:00      18   Southeast               1802   23        F   \n",
       "1  2019-04-29  10:40:00       8     West LA                842   41        M   \n",
       "2  2019-11-23  18:30:00       4  Hollenbeck                457   23        F   \n",
       "3  2019-04-30  06:15:00       6   Hollywood                663   27        M   \n",
       "4  2019-04-30  11:00:00       9    Van Nuys                901    2        F   \n",
       "\n",
       "  Descent Code Charge Group Code Charge Group Description Arrest Type Code  \\\n",
       "0            B               nan                      NaN                M   \n",
       "1            H               3.0                  Robbery                F   \n",
       "2            H               3.0                  Robbery                F   \n",
       "3            O               5.0                 Burglary                F   \n",
       "4            H               nan                      NaN                D   \n",
       "\n",
       "      Charge Charge Description                                   Address  \\\n",
       "0  653.22 PC                NaN                                      91ST   \n",
       "1      211PC            ROBBERY  11600    WILSHIRE                     BL   \n",
       "2      211PC            ROBBERY                                   FICKETT   \n",
       "3      459PC           BURGLARY                                   LA BREA   \n",
       "4  300(B)WIC                NaN                                    RAYMER   \n",
       "\n",
       "                      Cross Street              Location  Hour  arrest_year  \\\n",
       "0                         FIGUEROA  (33.9543, -118.2827)    17         2019   \n",
       "1                              NaN  (34.0508, -118.4592)    10         2019   \n",
       "2                       CINCINNATI  (34.0477, -118.2047)    18         2019   \n",
       "3                        LEXINGTON  (34.0907, -118.3384)     6         2019   \n",
       "4  SEPULVEDA                    BL  (34.2149, -118.4674)    11         2019   \n",
       "\n",
       "   arrest_month arrest_day_of_week  \n",
       "0             5             Friday  \n",
       "1             4             Monday  \n",
       "2            11           Saturday  \n",
       "3             4            Tuesday  \n",
       "4             4            Tuesday  "
      ]
     },
     "execution_count": 17,
     "metadata": {},
     "output_type": "execute_result"
    }
   ],
   "source": [
    "df.head()"
   ]
  },
  {
   "cell_type": "markdown",
   "metadata": {},
   "source": [
    "### Simple Statistics\n",
    "*(10 points)*   \n",
    "*Give simple, appropriate statistics (range, mode, mean, median, variance,\n",
    "counts, etc.) for the most important attributes and describe what they mean or if you found something interesting. Note: You can also use data from other sources for comparison. Explain the significance of the statistics run and why they are meaningful.*  \n",
    "\n",
    "Simple statistics for several categorical variables are found below. We did not include both description and code columns (when both are available) or location columns. From this table we can see the following:\n",
    "* There are 21 unique Areas, with Central having the most arrests. \n",
    "* There are 1351 unique Reporting Districts and Reporting District 1412 has the most arrests. \n",
    "* Men have more arrests than women. \n",
    "* Hispanics have the highest number of arrests.\n",
    "* The most common arrest type is a Misdemeanor.\n",
    "* The most common charge is Drunk Driving Alcohol/Drugs.\n",
    "* The most common Charge Group is Miscellaneous Other Violations."
   ]
  },
  {
   "cell_type": "code",
   "execution_count": 18,
   "metadata": {},
   "outputs": [
    {
     "data": {
      "text/html": [
       "<div>\n",
       "<style scoped>\n",
       "    .dataframe tbody tr th:only-of-type {\n",
       "        vertical-align: middle;\n",
       "    }\n",
       "\n",
       "    .dataframe tbody tr th {\n",
       "        vertical-align: top;\n",
       "    }\n",
       "\n",
       "    .dataframe thead th {\n",
       "        text-align: right;\n",
       "    }\n",
       "</style>\n",
       "<table border=\"1\" class=\"dataframe\">\n",
       "  <thead>\n",
       "    <tr style=\"text-align: right;\">\n",
       "      <th></th>\n",
       "      <th>Area Name</th>\n",
       "      <th>Reporting District</th>\n",
       "      <th>Sex Code</th>\n",
       "      <th>Descent Code</th>\n",
       "      <th>Charge Group Description</th>\n",
       "      <th>Arrest Type Code</th>\n",
       "      <th>Charge Description</th>\n",
       "    </tr>\n",
       "  </thead>\n",
       "  <tbody>\n",
       "    <tr>\n",
       "      <td>count</td>\n",
       "      <td>1324774</td>\n",
       "      <td>1324774</td>\n",
       "      <td>1324774</td>\n",
       "      <td>1324774</td>\n",
       "      <td>1234800</td>\n",
       "      <td>1324774</td>\n",
       "      <td>1235438</td>\n",
       "    </tr>\n",
       "    <tr>\n",
       "      <td>unique</td>\n",
       "      <td>21</td>\n",
       "      <td>1351</td>\n",
       "      <td>2</td>\n",
       "      <td>19</td>\n",
       "      <td>27</td>\n",
       "      <td>5</td>\n",
       "      <td>2369</td>\n",
       "    </tr>\n",
       "    <tr>\n",
       "      <td>top</td>\n",
       "      <td>Central</td>\n",
       "      <td>1412</td>\n",
       "      <td>M</td>\n",
       "      <td>H</td>\n",
       "      <td>Miscellaneous Other Violations</td>\n",
       "      <td>M</td>\n",
       "      <td>DRUNK DRIVING ALCOHOL/DRUGS</td>\n",
       "    </tr>\n",
       "    <tr>\n",
       "      <td>freq</td>\n",
       "      <td>131153</td>\n",
       "      <td>19226</td>\n",
       "      <td>1048548</td>\n",
       "      <td>618057</td>\n",
       "      <td>244960</td>\n",
       "      <td>805992</td>\n",
       "      <td>98669</td>\n",
       "    </tr>\n",
       "  </tbody>\n",
       "</table>\n",
       "</div>"
      ],
      "text/plain": [
       "       Area Name Reporting District Sex Code Descent Code  \\\n",
       "count    1324774            1324774  1324774      1324774   \n",
       "unique        21               1351        2           19   \n",
       "top      Central               1412        M            H   \n",
       "freq      131153              19226  1048548       618057   \n",
       "\n",
       "              Charge Group Description Arrest Type Code  \\\n",
       "count                          1234800          1324774   \n",
       "unique                              27                5   \n",
       "top     Miscellaneous Other Violations                M   \n",
       "freq                            244960           805992   \n",
       "\n",
       "                 Charge Description  \n",
       "count                       1235438  \n",
       "unique                         2369  \n",
       "top     DRUNK DRIVING ALCOHOL/DRUGS  \n",
       "freq                          98669  "
      ]
     },
     "execution_count": 18,
     "metadata": {},
     "output_type": "execute_result"
    }
   ],
   "source": [
    "# Assign, clean up, and split out the classes of data\n",
    "ordinalFeatures = ['Arrest Date', 'Time', 'Age','Hour']\n",
    "categoricalFeatures = ['Area Name', 'Reporting District', 'Sex Code', 'Descent Code',\n",
    "                       'Charge Group Description', 'Arrest Type Code', 'Charge Description']\n",
    "\n",
    "df[categoricalFeatures].describe()"
   ]
  },
  {
   "cell_type": "markdown",
   "metadata": {},
   "source": [
    "Next, we take a deeper dive into several categorical variables.\n",
    "\n",
    "The table below should arrests grouped by `Arrest Type Code`. Misdemeanor is the most common arrest type, accounting for 61% of all arrests. This is follows by Felony, which accounts for 32% of all arrests. The arrest type with the fewest arrest is Dependant, accounting for 0.8% of all arrests. We will see when looking at `Arrest Type` and `Age` that this arrest type is used primarily for children."
   ]
  },
  {
   "cell_type": "code",
   "execution_count": 19,
   "metadata": {},
   "outputs": [
    {
     "name": "stdout",
     "output_type": "stream",
     "text": [
      "Arrest Type Code\n",
      "D     11191\n",
      "F    423137\n",
      "I     55927\n",
      "M    805992\n",
      "O     28527\n",
      "Name: Arrest Type Code, dtype: int64\n"
     ]
    }
   ],
   "source": [
    "df_grouped = df.groupby(by='Arrest Type Code')\n",
    "print (df_grouped['Arrest Type Code'].count())"
   ]
  },
  {
   "cell_type": "markdown",
   "metadata": {},
   "source": [
    "Arrests of men account for 79% of all arrests."
   ]
  },
  {
   "cell_type": "code",
   "execution_count": 20,
   "metadata": {},
   "outputs": [
    {
     "name": "stdout",
     "output_type": "stream",
     "text": [
      "Sex Code\n",
      "F     276226\n",
      "M    1048548\n",
      "Name: Sex Code, dtype: int64\n"
     ]
    }
   ],
   "source": [
    "df_grouped = df.groupby(by='Sex Code')\n",
    "print (df_grouped['Sex Code'].count())"
   ]
  },
  {
   "cell_type": "markdown",
   "metadata": {},
   "source": [
    "Below is a table of arrest by `Descent Code`. There are 4 primary descents represented in the data: B - Black 28.7% of arrests, H - Hispanic 46.7% of arrests, O - Other 5.1% of arrests, and W - White 18.8% of arrests. These 4 descents represent 99.3% of all arrests. As such, we have choosen to re-classify the remaining 0.7% of arrests into ) - Other. "
   ]
  },
  {
   "cell_type": "code",
   "execution_count": 21,
   "metadata": {},
   "outputs": [
    {
     "name": "stdout",
     "output_type": "stream",
     "text": [
      "Descent Code\n",
      "A      5362\n",
      "B    380870\n",
      "C       836\n",
      "D         2\n",
      "F       933\n",
      "G        53\n",
      "H    618057\n",
      "I       284\n",
      "J       168\n",
      "K      1114\n",
      "L         6\n",
      "O     68051\n",
      "P       179\n",
      "S        11\n",
      "U         7\n",
      "V        18\n",
      "W    248704\n",
      "X       112\n",
      "Z         7\n",
      "Name: Descent Code, dtype: int64\n"
     ]
    }
   ],
   "source": [
    "df_grouped = df.groupby(by='Descent Code')\n",
    "print (df_grouped['Descent Code'].count())"
   ]
  },
  {
   "cell_type": "markdown",
   "metadata": {},
   "source": [
    "Reclassifying increases `Descent Code` O - Other from 5.1% of all arrests to 5.8%."
   ]
  },
  {
   "cell_type": "code",
   "execution_count": 22,
   "metadata": {},
   "outputs": [
    {
     "name": "stdout",
     "output_type": "stream",
     "text": [
      "Descent Code\n",
      "B    380870\n",
      "H    618057\n",
      "O     77143\n",
      "W    248704\n",
      "Name: Descent Code, dtype: int64\n"
     ]
    }
   ],
   "source": [
    "descent_list = ['B','H','O','W']\n",
    "df['Descent Code'] = np.where(np.isin(df['Descent Code'],descent_list),df['Descent Code'],'O')\n",
    "df_grouped = df.groupby(by='Descent Code')\n",
    "print (df_grouped['Descent Code'].count())"
   ]
  },
  {
   "cell_type": "markdown",
   "metadata": {},
   "source": [
    "Next, we look at the doy of week the arrests occurred on. We expected to see an increase on weekends, but instead found Wednesday, Thursday and Friday to have a higher percentage of arrests. If there was no difference by day of week, we would expect to see 14.3% of arrests occuring each day of the week. Thursday has the highest percentage, at 16.6%, followed by Wednesday at 16.4% and Friday at 16.2%."
   ]
  },
  {
   "cell_type": "code",
   "execution_count": 23,
   "metadata": {},
   "outputs": [
    {
     "name": "stdout",
     "output_type": "stream",
     "text": [
      "arrest_day_of_week\n",
      "Friday       214524\n",
      "Monday       150477\n",
      "Saturday     187854\n",
      "Sunday       153656\n",
      "Thursday     220093\n",
      "Tuesday      181080\n",
      "Wednesday    217090\n",
      "Name: arrest_day_of_week, dtype: int64\n"
     ]
    }
   ],
   "source": [
    "df_grouped = df.groupby(by='arrest_day_of_week')\n",
    "print (df_grouped['arrest_day_of_week'].count())"
   ]
  },
  {
   "cell_type": "markdown",
   "metadata": {},
   "source": [
    "Below we look at the hours in a day to see if there are certain time frame with more arrests. We see what you might expect, the early morning hours have fewer arrests. Whether this is a result of fewer officers on duty, the fact that the majority of people are asleep, or a combination of both, we cannot say. Most arrests occur during the 4pm hour."
   ]
  },
  {
   "cell_type": "code",
   "execution_count": 24,
   "metadata": {},
   "outputs": [
    {
     "name": "stdout",
     "output_type": "stream",
     "text": [
      "Hour\n",
      "0     52020\n",
      "1     47606\n",
      "2     40199\n",
      "3     27894\n",
      "4     18500\n",
      "5     13930\n",
      "6     18172\n",
      "7     30791\n",
      "8     42303\n",
      "9     48384\n",
      "10    52901\n",
      "11    55851\n",
      "12    59132\n",
      "13    60770\n",
      "14    72020\n",
      "15    78285\n",
      "16    80919\n",
      "17    78698\n",
      "18    77643\n",
      "19    75706\n",
      "20    77074\n",
      "21    73226\n",
      "22    71993\n",
      "23    70757\n",
      "Name: Hour, dtype: int64\n"
     ]
    }
   ],
   "source": [
    "df_grouped = df.groupby(by='Hour')\n",
    "print (df_grouped['Hour'].count())"
   ]
  },
  {
   "cell_type": "markdown",
   "metadata": {},
   "source": [
    "We expected to see a rise in arrests during the Thanksgiving/Christmas Holiday season. We instead found that these were the months with the fewest arrests. After accounting for days in a month, there does not appear to be a large variance in arrests from month-to-month, with the exception of November and December."
   ]
  },
  {
   "cell_type": "code",
   "execution_count": 25,
   "metadata": {},
   "outputs": [
    {
     "name": "stdout",
     "output_type": "stream",
     "text": [
      "arrest_month\n",
      "1     112990\n",
      "2     104070\n",
      "3     118372\n",
      "4     112364\n",
      "5     119184\n",
      "6     111308\n",
      "7     118270\n",
      "8     118260\n",
      "9     111376\n",
      "10    108355\n",
      "11     96879\n",
      "12     93346\n",
      "Name: arrest_month, dtype: int64\n"
     ]
    }
   ],
   "source": [
    "df_grouped = df.groupby(by='arrest_month')\n",
    "print (df_grouped['arrest_month'].count())"
   ]
  },
  {
   "cell_type": "markdown",
   "metadata": {},
   "source": [
    "Next, we look at arrests by `Year`. There has been a downward trend in arrests since 2012. The large decreased from 2018 to 2019 is probably due to a delay in trascribing the arrest records. We expect arrests in 2019 will continue to increase through the first part of 2020.\n",
    "\n",
    "There are many factors that could cause such a decrease in arrest rates. For example, a drop in the number of officer shifts could cause this. It could also be caused by a decline in crime in the area."
   ]
  },
  {
   "cell_type": "code",
   "execution_count": 26,
   "metadata": {},
   "outputs": [
    {
     "name": "stdout",
     "output_type": "stream",
     "text": [
      "arrest_year\n",
      "2010    162394\n",
      "2011    157621\n",
      "2012    163289\n",
      "2013    152629\n",
      "2014    139334\n",
      "2015    126099\n",
      "2016    118067\n",
      "2017    107565\n",
      "2018    104207\n",
      "2019     93131\n",
      "2020       438\n",
      "Name: arrest_year, dtype: int64\n"
     ]
    }
   ],
   "source": [
    "df_grouped = df.groupby(by='arrest_year')\n",
    "print (df_grouped['arrest_year'].count())"
   ]
  },
  {
   "cell_type": "markdown",
   "metadata": {},
   "source": [
    "Finally, we look at statistics for `Age` and notice that an age of zero is being reported."
   ]
  },
  {
   "cell_type": "code",
   "execution_count": 27,
   "metadata": {},
   "outputs": [
    {
     "data": {
      "text/plain": [
       "count    1324774.0\n",
       "mean          34.2\n",
       "std           13.6\n",
       "min            0.0\n",
       "25%           23.0\n",
       "50%           32.0\n",
       "75%           45.0\n",
       "max           97.0\n",
       "Name: Age, dtype: object"
      ]
     },
     "execution_count": 27,
     "metadata": {},
     "output_type": "execute_result"
    }
   ],
   "source": [
    "df['Age'].describe().apply(lambda x: '%.1f' % x)"
   ]
  },
  {
   "cell_type": "markdown",
   "metadata": {},
   "source": [
    "In fact, there are 920 arrests where the age is zero. These arrests will be treated as data entry errors."
   ]
  },
  {
   "cell_type": "code",
   "execution_count": 28,
   "metadata": {},
   "outputs": [
    {
     "data": {
      "text/plain": [
       "(970, 20)"
      ]
     },
     "execution_count": 28,
     "metadata": {},
     "output_type": "execute_result"
    }
   ],
   "source": [
    "# select rows where Time = 0\n",
    "df.loc[df['Age']== 0].shape"
   ]
  },
  {
   "cell_type": "markdown",
   "metadata": {},
   "source": [
    "We can see that there is a larger problem when grouping the data by `Age`. There are arrests for children too young to have commited a crime. We will treat these as data entry errors as well. However, we will need to pick a cutoff age where we think the data is reliable. For now, we hold off on making this determination until we have visualized the data and looked at relationships between `Age` and other variables."
   ]
  },
  {
   "cell_type": "code",
   "execution_count": 29,
   "metadata": {},
   "outputs": [
    {
     "name": "stdout",
     "output_type": "stream",
     "text": [
      "Age\n",
      "0     970\n",
      "1     783\n",
      "2     832\n",
      "3     840\n",
      "4     762\n",
      "     ... \n",
      "92      5\n",
      "93      5\n",
      "94      6\n",
      "96      4\n",
      "97      1\n",
      "Name: Age, Length: 97, dtype: int64\n"
     ]
    }
   ],
   "source": [
    "df_grouped = df.groupby(by='Age')\n",
    "print (df_grouped['Age'].count())"
   ]
  },
  {
   "cell_type": "markdown",
   "metadata": {},
   "source": [
    "### Visualize Attributes\n",
    "*(15 points)*  \n",
    "*Visualize the most important attributes appropriately (at least 5 attributes). Important: Provide an interpretation for each chart. Explain for each attribute why the chosen visualization is appropriate.*\n",
    "\n",
    "In this section we provide visualizations for individual attributes, without interactions with other variables."
   ]
  },
  {
   "cell_type": "markdown",
   "metadata": {},
   "source": [
    "#### Arrest Type Code\n",
    "\n",
    "DOES ANYONE KNOW HOW TO MAKE THIS PERCENTAGES?"
   ]
  },
  {
   "cell_type": "code",
   "execution_count": 30,
   "metadata": {},
   "outputs": [
    {
     "data": {
      "image/png": "[encoded data removed]",
      "text/plain": [
       "<Figure size 432x288 with 1 Axes>"
      ]
     },
     "metadata": {
      "needs_background": "light"
     },
     "output_type": "display_data"
    }
   ],
   "source": [
    "#like this?\n",
    "from bokeh.palettes import all_palettes\n",
    "import matplotlib.ticker as ticker\n",
    "\n",
    "colors_list = all_palettes['RdYlBu'][5]\n",
    "\n",
    "at3 = df.groupby('Arrest Type Code')['Arrest Type Code'].count()\n",
    "t = at3.sum()\n",
    "at3p = (at3/t)\n",
    "p = [at3p[0], at3p[1], at3p[2], at3p[3], at3p[4]]\n",
    "\n",
    "d1 = {'Arrest Count': at3, 'Percent':p}\n",
    "at4 = pd.DataFrame(data = d1)\n",
    "\n",
    "pplot = at4['Percent'].plot(kind = 'bar', color = colors_list, edgecolor = 'black')\n",
    "plt.title(\"Arrests From 2010-2019 Type Code Summary \")\n",
    "pplot.set_ylabel(\"Percentage\")\n",
    "pplot.yaxis.set_major_formatter(ticker.PercentFormatter(xmax = 1))"
   ]
  },
  {
   "cell_type": "markdown",
   "metadata": {},
   "source": [
    "###### Observations\n",
    "Most types of arrests trend downwards each year except for infractions, which start to rise around 2013. Misdemeanors decrease consistently, while felonies level off around 2015. Additional research could be done into the socio-political changes surrounding law enforcement over time to determine the effectiveness, or lack thereof, of various ordnances/propositions/laws (prop 47 2015?)\n"
   ]
  },
  {
   "cell_type": "markdown",
   "metadata": {},
   "source": [
    "#### Descent Code"
   ]
  },
  {
   "cell_type": "code",
   "execution_count": 31,
   "metadata": {},
   "outputs": [
    {
     "data": {
      "text/plain": [
       "<matplotlib.axes._subplots.AxesSubplot at 0x28e816f9988>"
      ]
     },
     "execution_count": 31,
     "metadata": {},
     "output_type": "execute_result"
    },
    {
     "data": {
      "image/png": "[encoded data removed]",
      "text/plain": [
       "<Figure size 432x288 with 1 Axes>"
      ]
     },
     "metadata": {
      "needs_background": "light"
     },
     "output_type": "display_data"
    }
   ],
   "source": [
    "df.groupby('Descent Code')['Descent Code'].count().plot(kind = 'bar')"
   ]
  },
  {
   "cell_type": "markdown",
   "metadata": {},
   "source": [
    "#### Hour"
   ]
  },
  {
   "cell_type": "code",
   "execution_count": 32,
   "metadata": {},
   "outputs": [
    {
     "data": {
      "text/plain": [
       "<matplotlib.axes._subplots.AxesSubplot at 0x28e8178fa08>"
      ]
     },
     "execution_count": 32,
     "metadata": {},
     "output_type": "execute_result"
    },
    {
     "data": {
      "image/png": "[encoded data removed]",
      "text/plain": [
       "<Figure size 432x288 with 1 Axes>"
      ]
     },
     "metadata": {
      "needs_background": "light"
     },
     "output_type": "display_data"
    }
   ],
   "source": [
    "df.groupby('Hour')['Hour'].count().plot(kind = 'line')"
   ]
  },
  {
   "cell_type": "markdown",
   "metadata": {},
   "source": [
    "#### Age\n",
    "\n",
    "The graph below provides a histogram for the distribution of ages. There is a sharp rise in the number of arrests for teenagers through the mid-20s. Arrests steadily fall from the mid-twenties, plateau in the 40s and 50s and then decline. As previously noted, there are observations with an age of zero and observations with ages too young to be valid data. MAYBE ADD A BOXPLOT?"
   ]
  },
  {
   "cell_type": "code",
   "execution_count": 33,
   "metadata": {},
   "outputs": [
    {
     "data": {
      "image/png": "[encoded data removed]",
      "text/plain": [
       "<Figure size 576x288 with 1 Axes>"
      ]
     },
     "metadata": {},
     "output_type": "display_data"
    }
   ],
   "source": [
    "# set plot style\n",
    "plt.style.use('fivethirtyeight')\n",
    "plt.figure(figsize = (8, 4))\n",
    "\n",
    "# distribution of age in years\n",
    "sns.distplot(df['Age'], bins = 25);\n",
    "plt.title('Age of Person Arrested'); plt.xlabel('Age in Years'); plt.ylabel('Count');"
   ]
  },
  {
   "cell_type": "markdown",
   "metadata": {},
   "source": [
    "#### Reporting District"
   ]
  },
  {
   "cell_type": "markdown",
   "metadata": {},
   "source": [
    "We expected there to be areas of Los Angeles with a higher number of arrest incidents. The map below uses a color-scale to highlight Reporting Districts with higher arrest counts. The cluster of lighter Reporting Districts represents Hollywood in the map below. We used this type of visualization to get a better sense of where the highest number of arrests are occurring, in the context of a map."
   ]
  },
  {
   "cell_type": "code",
   "execution_count": 35,
   "metadata": {},
   "outputs": [
    {
     "data": {
      "text/plain": [
       "Text(0.5, 1, 'Arrests by Reporting District')"
      ]
     },
     "execution_count": 35,
     "metadata": {},
     "output_type": "execute_result"
    },
    {
     "data": {
      "image/png": "[encoded data removed]",
      "text/plain": [
       "<Figure size 720x720 with 2 Axes>"
      ]
     },
     "metadata": {
      "needs_background": "light"
     },
     "output_type": "display_data"
    }
   ],
   "source": [
    "gdf = gpd.read_file('LAPD_Reporting_Districts.shp')\n",
    "\n",
    "#create counts to merge with polygon dataframe \n",
    "\n",
    "district_counts = df['Reporting District'].value_counts().reset_index().rename(columns={'index': 'Key'})\n",
    "district_counts.columns = ['Key', 'District Counts']\n",
    "\n",
    "male = df[df['Sex Code'] == 'M']\n",
    "male_counts = male['Reporting District'].value_counts().reset_index().rename(columns={'index': 'key'})\n",
    "male_counts.columns = ['Key','Male_Counts']\n",
    "\n",
    "female = df[df['Sex Code'] == 'F']\n",
    "female_counts = female['Reporting District'].value_counts().reset_index().rename(columns={'index': 'key'})\n",
    "female_counts.columns = ['Key','Female_Counts']\n",
    "\n",
    "arrestf = df[df['Arrest Type Code'] == 'F']\n",
    "arrestf_counts = arrestf['Reporting District'].value_counts().reset_index().rename(columns={'index': 'key'})\n",
    "arrestf_counts.columns = ['Key','Felony_Counts']\n",
    "\n",
    "arrestm = df[df['Arrest Type Code'] == 'M']\n",
    "arrestm_counts = arrestm['Reporting District'].value_counts().reset_index().rename(columns={'index': 'key'})\n",
    "arrestm_counts.columns = ['Key','Misdemeanor_Counts']\n",
    "\n",
    "arresti = df[df['Arrest Type Code'] == 'I']\n",
    "arresti_counts = arresti['Reporting District'].value_counts().reset_index().rename(columns={'index': 'key'})\n",
    "arresti_counts.columns = ['Key','Infraction_Counts']\n",
    "\n",
    "arresto = df[df['Arrest Type Code'] == 'F']\n",
    "arresto_counts = arresto['Reporting District'].value_counts().reset_index().rename(columns={'index': 'key'})\n",
    "arresto_counts.columns = ['Key','Other_Counts']\n",
    "\n",
    "year_counts = df.groupby(['Reporting District','arrest_year']).size().reset_index()\n",
    "year_counts.columns = ['Key','Year','Year_Dist_Counts']\n",
    "year_counts['Key']=year_counts['Key'].astype(int)\n",
    "\n",
    "merged1 = district_counts.merge(male_counts, left_on='Key', right_on='Key')\n",
    "merged2 = merged1.merge(female_counts,left_on='Key', right_on='Key')\n",
    "merged3 = merged2.merge(arrestf_counts,left_on='Key', right_on='Key')\n",
    "merged4 = merged3.merge(arrestm_counts,left_on='Key', right_on='Key')\n",
    "merged5 = merged4.merge(arresti_counts,left_on='Key', right_on='Key')\n",
    "merged6 = merged5.merge(arresto_counts,left_on='Key', right_on='Key')\n",
    "merged6['Key']=merged2['Key'].astype(int)\n",
    "\n",
    "#merge polygon dataframe with counts by reporting district\n",
    "gdf1 = gdf.merge(merged6, left_on='REPDIST', right_on='Key')\n",
    "gdf2 = gdf1.merge(year_counts, left_on='REPDIST',right_on='Key')\n",
    "\n",
    "%matplotlib inline\n",
    "gdf1.plot(column='District Counts', cmap='plasma', figsize=(10, 10),  legend=True)\n",
    "plt.title('Arrests by Reporting District')"
   ]
  },
  {
   "cell_type": "markdown",
   "metadata": {},
   "source": [
    "### Explore Joint Attributes\n",
    "*(15 points)*  \n",
    "*Explore relationships between attributes: Look at the attributes via scatter plots, correlation, cross-tabulation, group-wise averages, etc. as appropriate. Explain any interesting relationships.*  "
   ]
  },
  {
   "cell_type": "code",
   "execution_count": 38,
   "metadata": {},
   "outputs": [
    {
     "data": {
      "text/html": [
       "\n",
       "    <div class=\"bk-root\">\n",
       "        <a href=\"https://bokeh.pydata.org\" target=\"_blank\" class=\"bk-logo bk-logo-small bk-logo-notebook\"></a>\n",
       "        <span id=\"1182\">Loading BokehJS ...</span>\n",
       "    </div>"
      ]
     },
     "metadata": {},
     "output_type": "display_data"
    },
    {
     "data": {
      "application/javascript": [
       "\n",
       "(function(root) {\n",
       "  function now() {\n",
       "    return new Date();\n",
       "  }\n",
       "\n",
       "  var force = true;\n",
       "\n",
       "  if (typeof root._bokeh_onload_callbacks === \"undefined\" || force === true) {\n",
       "    root._bokeh_onload_callbacks = [];\n",
       "    root._bokeh_is_loading = undefined;\n",
       "  }\n",
       "\n",
       "  var JS_MIME_TYPE = 'application/javascript';\n",
       "  var HTML_MIME_TYPE = 'text/html';\n",
       "  var EXEC_MIME_TYPE = 'application/vnd.bokehjs_exec.v0+json';\n",
       "  var CLASS_NAME = 'output_bokeh rendered_html';\n",
       "\n",
       "  /**\n",
       "   * Render data to the DOM node\n",
       "   */\n",
       "  function render(props, node) {\n",
       "    var script = document.createElement(\"script\");\n",
       "    node.appendChild(script);\n",
       "  }\n",
       "\n",
       "  /**\n",
       "   * Handle when an output is cleared or removed\n",
       "   */\n",
       "  function handleClearOutput(event, handle) {\n",
       "    var cell = handle.cell;\n",
       "\n",
       "    var id = cell.output_area._bokeh_element_id;\n",
       "    var server_id = cell.output_area._bokeh_server_id;\n",
       "    // Clean up Bokeh references\n",
       "    if (id != null && id in Bokeh.index) {\n",
       "      Bokeh.index[id].model.document.clear();\n",
       "      delete Bokeh.index[id];\n",
       "    }\n",
       "\n",
       "    if (server_id !== undefined) {\n",
       "      // Clean up Bokeh references\n",
       "      var cmd = \"from bokeh.io.state import curstate; print(curstate().uuid_to_server['\" + server_id + \"'].get_sessions()[0].document.roots[0]._id)\";\n",
       "      cell.notebook.kernel.execute(cmd, {\n",
       "        iopub: {\n",
       "          output: function(msg) {\n",
       "            var id = msg.content.text.trim();\n",
       "            if (id in Bokeh.index) {\n",
       "              Bokeh.index[id].model.document.clear();\n",
       "              delete Bokeh.index[id];\n",
       "            }\n",
       "          }\n",
       "        }\n",
       "      });\n",
       "      // Destroy server and session\n",
       "      var cmd = \"import bokeh.io.notebook as ion; ion.destroy_server('\" + server_id + \"')\";\n",
       "      cell.notebook.kernel.execute(cmd);\n",
       "    }\n",
       "  }\n",
       "\n",
       "  /**\n",
       "   * Handle when a new output is added\n",
       "   */\n",
       "  function handleAddOutput(event, handle) {\n",
       "    var output_area = handle.output_area;\n",
       "    var output = handle.output;\n",
       "\n",
       "    // limit handleAddOutput to display_data with EXEC_MIME_TYPE content only\n",
       "    if ((output.output_type != \"display_data\") || (!output.data.hasOwnProperty(EXEC_MIME_TYPE))) {\n",
       "      return\n",
       "    }\n",
       "\n",
       "    var toinsert = output_area.element.find(\".\" + CLASS_NAME.split(' ')[0]);\n",
       "\n",
       "    if (output.metadata[EXEC_MIME_TYPE][\"id\"] !== undefined) {\n",
       "      toinsert[toinsert.length - 1].firstChild.textContent = output.data[JS_MIME_TYPE];\n",
       "      // store reference to embed id on output_area\n",
       "      output_area._bokeh_element_id = output.metadata[EXEC_MIME_TYPE][\"id\"];\n",
       "    }\n",
       "    if (output.metadata[EXEC_MIME_TYPE][\"server_id\"] !== undefined) {\n",
       "      var bk_div = document.createElement(\"div\");\n",
       "      bk_div.innerHTML = output.data[HTML_MIME_TYPE];\n",
       "      var script_attrs = bk_div.children[0].attributes;\n",
       "      for (var i = 0; i < script_attrs.length; i++) {\n",
       "        toinsert[toinsert.length - 1].firstChild.setAttribute(script_attrs[i].name, script_attrs[i].value);\n",
       "      }\n",
       "      // store reference to server id on output_area\n",
       "      output_area._bokeh_server_id = output.metadata[EXEC_MIME_TYPE][\"server_id\"];\n",
       "    }\n",
       "  }\n",
       "\n",
       "  function register_renderer(events, OutputArea) {\n",
       "\n",
       "    function append_mime(data, metadata, element) {\n",
       "      // create a DOM node to render to\n",
       "      var toinsert = this.create_output_subarea(\n",
       "        metadata,\n",
       "        CLASS_NAME,\n",
       "        EXEC_MIME_TYPE\n",
       "      );\n",
       "      this.keyboard_manager.register_events(toinsert);\n",
       "      // Render to node\n",
       "      var props = {data: data, metadata: metadata[EXEC_MIME_TYPE]};\n",
       "      render(props, toinsert[toinsert.length - 1]);\n",
       "      element.append(toinsert);\n",
       "      return toinsert\n",
       "    }\n",
       "\n",
       "    /* Handle when an output is cleared or removed */\n",
       "    events.on('clear_output.CodeCell', handleClearOutput);\n",
       "    events.on('delete.Cell', handleClearOutput);\n",
       "\n",
       "    /* Handle when a new output is added */\n",
       "    events.on('output_added.OutputArea', handleAddOutput);\n",
       "\n",
       "    /**\n",
       "     * Register the mime type and append_mime function with output_area\n",
       "     */\n",
       "    OutputArea.prototype.register_mime_type(EXEC_MIME_TYPE, append_mime, {\n",
       "      /* Is output safe? */\n",
       "      safe: true,\n",
       "      /* Index of renderer in `output_area.display_order` */\n",
       "      index: 0\n",
       "    });\n",
       "  }\n",
       "\n",
       "  // register the mime type if in Jupyter Notebook environment and previously unregistered\n",
       "  if (root.Jupyter !== undefined) {\n",
       "    var events = require('base/js/events');\n",
       "    var OutputArea = require('notebook/js/outputarea').OutputArea;\n",
       "\n",
       "    if (OutputArea.prototype.mime_types().indexOf(EXEC_MIME_TYPE) == -1) {\n",
       "      register_renderer(events, OutputArea);\n",
       "    }\n",
       "  }\n",
       "\n",
       "  \n",
       "  if (typeof (root._bokeh_timeout) === \"undefined\" || force === true) {\n",
       "    root._bokeh_timeout = Date.now() + 5000;\n",
       "    root._bokeh_failed_load = false;\n",
       "  }\n",
       "\n",
       "  var NB_LOAD_WARNING = {'data': {'text/html':\n",
       "     \"<div style='background-color: #fdd'>\\n\"+\n",
       "     \"<p>\\n\"+\n",
       "     \"BokehJS does not appear to have successfully loaded. If loading BokehJS from CDN, this \\n\"+\n",
       "     \"may be due to a slow or bad network connection. Possible fixes:\\n\"+\n",
       "     \"</p>\\n\"+\n",
       "     \"<ul>\\n\"+\n",
       "     \"<li>re-rerun `output_notebook()` to attempt to load from CDN again, or</li>\\n\"+\n",
       "     \"<li>use INLINE resources instead, as so:</li>\\n\"+\n",
       "     \"</ul>\\n\"+\n",
       "     \"<code>\\n\"+\n",
       "     \"from bokeh.resources import INLINE\\n\"+\n",
       "     \"output_notebook(resources=INLINE)\\n\"+\n",
       "     \"</code>\\n\"+\n",
       "     \"</div>\"}};\n",
       "\n",
       "  function display_loaded() {\n",
       "    var el = document.getElementById(\"1182\");\n",
       "    if (el != null) {\n",
       "      el.textContent = \"BokehJS is loading...\";\n",
       "    }\n",
       "    if (root.Bokeh !== undefined) {\n",
       "      if (el != null) {\n",
       "        el.textContent = \"BokehJS \" + root.Bokeh.version + \" successfully loaded.\";\n",
       "      }\n",
       "    } else if (Date.now() < root._bokeh_timeout) {\n",
       "      setTimeout(display_loaded, 100)\n",
       "    }\n",
       "  }\n",
       "\n",
       "\n",
       "  function run_callbacks() {\n",
       "    try {\n",
       "      root._bokeh_onload_callbacks.forEach(function(callback) {\n",
       "        if (callback != null)\n",
       "          callback();\n",
       "      });\n",
       "    } finally {\n",
       "      delete root._bokeh_onload_callbacks\n",
       "    }\n",
       "    console.debug(\"Bokeh: all callbacks have finished\");\n",
       "  }\n",
       "\n",
       "  function load_libs(css_urls, js_urls, callback) {\n",
       "    if (css_urls == null) css_urls = [];\n",
       "    if (js_urls == null) js_urls = [];\n",
       "\n",
       "    root._bokeh_onload_callbacks.push(callback);\n",
       "    if (root._bokeh_is_loading > 0) {\n",
       "      console.debug(\"Bokeh: BokehJS is being loaded, scheduling callback at\", now());\n",
       "      return null;\n",
       "    }\n",
       "    if (js_urls == null || js_urls.length === 0) {\n",
       "      run_callbacks();\n",
       "      return null;\n",
       "    }\n",
       "    console.debug(\"Bokeh: BokehJS not loaded, scheduling load and callback at\", now());\n",
       "    root._bokeh_is_loading = css_urls.length + js_urls.length;\n",
       "\n",
       "    function on_load() {\n",
       "      root._bokeh_is_loading--;\n",
       "      if (root._bokeh_is_loading === 0) {\n",
       "        console.debug(\"Bokeh: all BokehJS libraries/stylesheets loaded\");\n",
       "        run_callbacks()\n",
       "      }\n",
       "    }\n",
       "\n",
       "    function on_error() {\n",
       "      console.error(\"failed to load \" + url);\n",
       "    }\n",
       "\n",
       "    for (var i = 0; i < css_urls.length; i++) {\n",
       "      var url = css_urls[i];\n",
       "      const element = document.createElement(\"link\");\n",
       "      element.onload = on_load;\n",
       "      element.onerror = on_error;\n",
       "      element.rel = \"stylesheet\";\n",
       "      element.type = \"text/css\";\n",
       "      element.href = url;\n",
       "      console.debug(\"Bokeh: injecting link tag for BokehJS stylesheet: \", url);\n",
       "      document.body.appendChild(element);\n",
       "    }\n",
       "\n",
       "    for (var i = 0; i < js_urls.length; i++) {\n",
       "      var url = js_urls[i];\n",
       "      var element = document.createElement('script');\n",
       "      element.onload = on_load;\n",
       "      element.onerror = on_error;\n",
       "      element.async = false;\n",
       "      element.src = url;\n",
       "      console.debug(\"Bokeh: injecting script tag for BokehJS library: \", url);\n",
       "      document.head.appendChild(element);\n",
       "    }\n",
       "  };var element = document.getElementById(\"1182\");\n",
       "  if (element == null) {\n",
       "    console.error(\"Bokeh: ERROR: autoload.js configured with elementid '1182' but no matching script tag was found. \")\n",
       "    return false;\n",
       "  }\n",
       "\n",
       "  function inject_raw_css(css) {\n",
       "    const element = document.createElement(\"style\");\n",
       "    element.appendChild(document.createTextNode(css));\n",
       "    document.body.appendChild(element);\n",
       "  }\n",
       "\n",
       "  var js_urls = [\"https://cdn.pydata.org/bokeh/release/bokeh-1.3.4.min.js\", \"https://cdn.pydata.org/bokeh/release/bokeh-widgets-1.3.4.min.js\", \"https://cdn.pydata.org/bokeh/release/bokeh-tables-1.3.4.min.js\", \"https://cdn.pydata.org/bokeh/release/bokeh-gl-1.3.4.min.js\"];\n",
       "  var css_urls = [];\n",
       "\n",
       "  var inline_js = [\n",
       "    function(Bokeh) {\n",
       "      Bokeh.set_log_level(\"info\");\n",
       "    },\n",
       "    \n",
       "    function(Bokeh) {\n",
       "      \n",
       "    },\n",
       "    function(Bokeh) {} // ensure no trailing comma for IE\n",
       "  ];\n",
       "\n",
       "  function run_inline_js() {\n",
       "    \n",
       "    if ((root.Bokeh !== undefined) || (force === true)) {\n",
       "      for (var i = 0; i < inline_js.length; i++) {\n",
       "        inline_js[i].call(root, root.Bokeh);\n",
       "      }if (force === true) {\n",
       "        display_loaded();\n",
       "      }} else if (Date.now() < root._bokeh_timeout) {\n",
       "      setTimeout(run_inline_js, 100);\n",
       "    } else if (!root._bokeh_failed_load) {\n",
       "      console.log(\"Bokeh: BokehJS failed to load within specified timeout.\");\n",
       "      root._bokeh_failed_load = true;\n",
       "    } else if (force !== true) {\n",
       "      var cell = $(document.getElementById(\"1182\")).parents('.cell').data().cell;\n",
       "      cell.output_area.append_execute_result(NB_LOAD_WARNING)\n",
       "    }\n",
       "\n",
       "  }\n",
       "\n",
       "  if (root._bokeh_is_loading === 0) {\n",
       "    console.debug(\"Bokeh: BokehJS loaded, going straight to plotting\");\n",
       "    run_inline_js();\n",
       "  } else {\n",
       "    load_libs(css_urls, js_urls, function() {\n",
       "      console.debug(\"Bokeh: BokehJS plotting callback run at\", now());\n",
       "      run_inline_js();\n",
       "    });\n",
       "  }\n",
       "}(window));"
      ],
      "application/vnd.bokehjs_load.v0+json": "\n(function(root) {\n  function now() {\n    return new Date();\n  }\n\n  var force = true;\n\n  if (typeof root._bokeh_onload_callbacks === \"undefined\" || force === true) {\n    root._bokeh_onload_callbacks = [];\n    root._bokeh_is_loading = undefined;\n  }\n\n  \n\n  \n  if (typeof (root._bokeh_timeout) === \"undefined\" || force === true) {\n    root._bokeh_timeout = Date.now() + 5000;\n    root._bokeh_failed_load = false;\n  }\n\n  var NB_LOAD_WARNING = {'data': {'text/html':\n     \"<div style='background-color: #fdd'>\\n\"+\n     \"<p>\\n\"+\n     \"BokehJS does not appear to have successfully loaded. If loading BokehJS from CDN, this \\n\"+\n     \"may be due to a slow or bad network connection. Possible fixes:\\n\"+\n     \"</p>\\n\"+\n     \"<ul>\\n\"+\n     \"<li>re-rerun `output_notebook()` to attempt to load from CDN again, or</li>\\n\"+\n     \"<li>use INLINE resources instead, as so:</li>\\n\"+\n     \"</ul>\\n\"+\n     \"<code>\\n\"+\n     \"from bokeh.resources import INLINE\\n\"+\n     \"output_notebook(resources=INLINE)\\n\"+\n     \"</code>\\n\"+\n     \"</div>\"}};\n\n  function display_loaded() {\n    var el = document.getElementById(\"1182\");\n    if (el != null) {\n      el.textContent = \"BokehJS is loading...\";\n    }\n    if (root.Bokeh !== undefined) {\n      if (el != null) {\n        el.textContent = \"BokehJS \" + root.Bokeh.version + \" successfully loaded.\";\n      }\n    } else if (Date.now() < root._bokeh_timeout) {\n      setTimeout(display_loaded, 100)\n    }\n  }\n\n\n  function run_callbacks() {\n    try {\n      root._bokeh_onload_callbacks.forEach(function(callback) {\n        if (callback != null)\n          callback();\n      });\n    } finally {\n      delete root._bokeh_onload_callbacks\n    }\n    console.debug(\"Bokeh: all callbacks have finished\");\n  }\n\n  function load_libs(css_urls, js_urls, callback) {\n    if (css_urls == null) css_urls = [];\n    if (js_urls == null) js_urls = [];\n\n    root._bokeh_onload_callbacks.push(callback);\n    if (root._bokeh_is_loading > 0) {\n      console.debug(\"Bokeh: BokehJS is being loaded, scheduling callback at\", now());\n      return null;\n    }\n    if (js_urls == null || js_urls.length === 0) {\n      run_callbacks();\n      return null;\n    }\n    console.debug(\"Bokeh: BokehJS not loaded, scheduling load and callback at\", now());\n    root._bokeh_is_loading = css_urls.length + js_urls.length;\n\n    function on_load() {\n      root._bokeh_is_loading--;\n      if (root._bokeh_is_loading === 0) {\n        console.debug(\"Bokeh: all BokehJS libraries/stylesheets loaded\");\n        run_callbacks()\n      }\n    }\n\n    function on_error() {\n      console.error(\"failed to load \" + url);\n    }\n\n    for (var i = 0; i < css_urls.length; i++) {\n      var url = css_urls[i];\n      const element = document.createElement(\"link\");\n      element.onload = on_load;\n      element.onerror = on_error;\n      element.rel = \"stylesheet\";\n      element.type = \"text/css\";\n      element.href = url;\n      console.debug(\"Bokeh: injecting link tag for BokehJS stylesheet: \", url);\n      document.body.appendChild(element);\n    }\n\n    for (var i = 0; i < js_urls.length; i++) {\n      var url = js_urls[i];\n      var element = document.createElement('script');\n      element.onload = on_load;\n      element.onerror = on_error;\n      element.async = false;\n      element.src = url;\n      console.debug(\"Bokeh: injecting script tag for BokehJS library: \", url);\n      document.head.appendChild(element);\n    }\n  };var element = document.getElementById(\"1182\");\n  if (element == null) {\n    console.error(\"Bokeh: ERROR: autoload.js configured with elementid '1182' but no matching script tag was found. \")\n    return false;\n  }\n\n  function inject_raw_css(css) {\n    const element = document.createElement(\"style\");\n    element.appendChild(document.createTextNode(css));\n    document.body.appendChild(element);\n  }\n\n  var js_urls = [\"https://cdn.pydata.org/bokeh/release/bokeh-1.3.4.min.js\", \"https://cdn.pydata.org/bokeh/release/bokeh-widgets-1.3.4.min.js\", \"https://cdn.pydata.org/bokeh/release/bokeh-tables-1.3.4.min.js\", \"https://cdn.pydata.org/bokeh/release/bokeh-gl-1.3.4.min.js\"];\n  var css_urls = [];\n\n  var inline_js = [\n    function(Bokeh) {\n      Bokeh.set_log_level(\"info\");\n    },\n    \n    function(Bokeh) {\n      \n    },\n    function(Bokeh) {} // ensure no trailing comma for IE\n  ];\n\n  function run_inline_js() {\n    \n    if ((root.Bokeh !== undefined) || (force === true)) {\n      for (var i = 0; i < inline_js.length; i++) {\n        inline_js[i].call(root, root.Bokeh);\n      }if (force === true) {\n        display_loaded();\n      }} else if (Date.now() < root._bokeh_timeout) {\n      setTimeout(run_inline_js, 100);\n    } else if (!root._bokeh_failed_load) {\n      console.log(\"Bokeh: BokehJS failed to load within specified timeout.\");\n      root._bokeh_failed_load = true;\n    } else if (force !== true) {\n      var cell = $(document.getElementById(\"1182\")).parents('.cell').data().cell;\n      cell.output_area.append_execute_result(NB_LOAD_WARNING)\n    }\n\n  }\n\n  if (root._bokeh_is_loading === 0) {\n    console.debug(\"Bokeh: BokehJS loaded, going straight to plotting\");\n    run_inline_js();\n  } else {\n    load_libs(css_urls, js_urls, function() {\n      console.debug(\"Bokeh: BokehJS plotting callback run at\", now());\n      run_inline_js();\n    });\n  }\n}(window));"
     },
     "metadata": {},
     "output_type": "display_data"
    },
    {
     "data": {
      "text/html": [
       "\n",
       "\n",
       "\n",
       "\n",
       "\n",
       "\n",
       "  <div class=\"bk-root\" id=\"1dd57835-5e0d-428c-8136-037909c829d1\" data-root-id=\"1186\"></div>\n"
      ]
     },
     "metadata": {},
     "output_type": "display_data"
    },
    {
     "data": {
      "application/javascript": [
       "(function(root) {\n",
       "  function embed_document(root) {\n",
       "    \n",
       "  var docs_json = {\"05d1fc7a-b9df-413c-b5a8-88fc0b9ce650\":{\"roots\":{\"references\":[{\"attributes\":{\"below\":[{\"id\":\"1196\",\"type\":\"CategoricalAxis\"}],\"center\":[{\"id\":\"1199\",\"type\":\"Grid\"},{\"id\":\"1204\",\"type\":\"Grid\"}],\"left\":[{\"id\":\"1200\",\"type\":\"LinearAxis\"}],\"plot_height\":800,\"plot_width\":1900,\"renderers\":[{\"id\":\"1218\",\"type\":\"GlyphRenderer\"},{\"id\":\"1223\",\"type\":\"GlyphRenderer\"},{\"id\":\"1228\",\"type\":\"GlyphRenderer\"},{\"id\":\"1233\",\"type\":\"GlyphRenderer\"},{\"id\":\"1238\",\"type\":\"GlyphRenderer\"},{\"id\":\"1243\",\"type\":\"GlyphRenderer\"}],\"title\":{\"id\":\"1187\",\"type\":\"Title\"},\"toolbar\":{\"id\":\"1209\",\"type\":\"Toolbar\"},\"toolbar_location\":\"left\",\"x_range\":{\"id\":\"1185\",\"type\":\"FactorRange\"},\"x_scale\":{\"id\":\"1192\",\"type\":\"CategoricalScale\"},\"y_range\":{\"id\":\"1190\",\"type\":\"DataRange1d\"},\"y_scale\":{\"id\":\"1194\",\"type\":\"LinearScale\"}},\"id\":\"1186\",\"subtype\":\"Figure\",\"type\":\"Plot\"},{\"attributes\":{\"line_alpha\":0.1,\"line_color\":\"#1f77b4\",\"line_width\":2,\"x\":{\"field\":\"x\"},\"y\":{\"field\":\"y\"}},\"id\":\"1227\",\"type\":\"Line\"},{\"attributes\":{\"callback\":null,\"tooltips\":[[\"Year,Arrest Type\",\"@x2\"],[\"Count\",\"@counts2\"]]},\"id\":\"1206\",\"type\":\"HoverTool\"},{\"attributes\":{\"line_color\":\"#b2df8a\",\"line_width\":2,\"x\":{\"field\":\"x\"},\"y\":{\"field\":\"y\"}},\"id\":\"1231\",\"type\":\"Line\"},{\"attributes\":{\"callback\":null,\"data\":{\"x\":[[\"2010\",\"Felony\"],[\"2011\",\"Felony\"],[\"2012\",\"Felony\"],[\"2013\",\"Felony\"],[\"2014\",\"Felony\"],[\"2015\",\"Felony\"],[\"2016\",\"Felony\"],[\"2017\",\"Felony\"],[\"2018\",\"Felony\"],[\"2019\",\"Felony\"]],\"y\":[51154,49825,50607,47878,45870,35698,36850,35929,34934,34253]},\"selected\":{\"id\":\"1276\",\"type\":\"Selection\"},\"selection_policy\":{\"id\":\"1275\",\"type\":\"UnionRenderers\"}},\"id\":\"1235\",\"type\":\"ColumnDataSource\"},{\"attributes\":{},\"id\":\"1270\",\"type\":\"Selection\"},{\"attributes\":{},\"id\":\"1205\",\"type\":\"SaveTool\"},{\"attributes\":{},\"id\":\"1267\",\"type\":\"UnionRenderers\"},{\"attributes\":{},\"id\":\"1272\",\"type\":\"Selection\"},{\"attributes\":{},\"id\":\"1277\",\"type\":\"UnionRenderers\"},{\"attributes\":{},\"id\":\"1201\",\"type\":\"BasicTicker\"},{\"attributes\":{\"line_color\":\"#fb9a99\",\"line_width\":2,\"x\":{\"field\":\"x\"},\"y\":{\"field\":\"y\"}},\"id\":\"1241\",\"type\":\"Line\"},{\"attributes\":{},\"id\":\"1269\",\"type\":\"UnionRenderers\"},{\"attributes\":{\"source\":{\"id\":\"1225\",\"type\":\"ColumnDataSource\"}},\"id\":\"1229\",\"type\":\"CDSView\"},{\"attributes\":{\"data_source\":{\"id\":\"1235\",\"type\":\"ColumnDataSource\"},\"glyph\":{\"id\":\"1236\",\"type\":\"Line\"},\"hover_glyph\":null,\"muted_glyph\":null,\"nonselection_glyph\":{\"id\":\"1237\",\"type\":\"Line\"},\"selection_glyph\":null,\"view\":{\"id\":\"1239\",\"type\":\"CDSView\"}},\"id\":\"1238\",\"type\":\"GlyphRenderer\"},{\"attributes\":{},\"id\":\"1271\",\"type\":\"UnionRenderers\"},{\"attributes\":{},\"id\":\"1275\",\"type\":\"UnionRenderers\"},{\"attributes\":{},\"id\":\"1278\",\"type\":\"Selection\"},{\"attributes\":{\"callback\":null,\"data\":{\"x\":[[\"2010\",\"Dependent\"],[\"2011\",\"Dependent\"],[\"2012\",\"Dependent\"],[\"2013\",\"Dependent\"],[\"2014\",\"Dependent\"],[\"2015\",\"Dependent\"],[\"2016\",\"Dependent\"],[\"2017\",\"Dependent\"],[\"2018\",\"Dependent\"],[\"2019\",\"Dependent\"]],\"y\":[2184,2112,1966,1178,951,769,554,575,436,463]},\"selected\":{\"id\":\"1270\",\"type\":\"Selection\"},\"selection_policy\":{\"id\":\"1269\",\"type\":\"UnionRenderers\"}},\"id\":\"1220\",\"type\":\"ColumnDataSource\"},{\"attributes\":{\"line_color\":\"#33a02c\",\"line_width\":2,\"x\":{\"field\":\"x\"},\"y\":{\"field\":\"y\"}},\"id\":\"1236\",\"type\":\"Line\"},{\"attributes\":{},\"id\":\"1273\",\"type\":\"UnionRenderers\"},{\"attributes\":{\"data_source\":{\"id\":\"1225\",\"type\":\"ColumnDataSource\"},\"glyph\":{\"id\":\"1226\",\"type\":\"Line\"},\"hover_glyph\":null,\"muted_glyph\":null,\"nonselection_glyph\":{\"id\":\"1227\",\"type\":\"Line\"},\"selection_glyph\":null,\"view\":{\"id\":\"1229\",\"type\":\"CDSView\"}},\"id\":\"1228\",\"type\":\"GlyphRenderer\"},{\"attributes\":{\"callback\":null,\"data\":{\"x\":[[\"2010\",\"Other\"],[\"2011\",\"Other\"],[\"2012\",\"Other\"],[\"2013\",\"Other\"],[\"2014\",\"Other\"],[\"2015\",\"Other\"],[\"2016\",\"Other\"],[\"2017\",\"Other\"],[\"2018\",\"Other\"],[\"2019\",\"Other\"]],\"y\":[1490,1549,2658,4519,4405,4456,2749,2203,2219,2270]},\"selected\":{\"id\":\"1278\",\"type\":\"Selection\"},\"selection_policy\":{\"id\":\"1277\",\"type\":\"UnionRenderers\"}},\"id\":\"1240\",\"type\":\"ColumnDataSource\"},{\"attributes\":{\"callback\":null,\"factors\":[[\"2010\",\"Dependent\"],[\"2010\",\"Infraction\"],[\"2010\",\"Misdemeanor\"],[\"2010\",\"Felony\"],[\"2010\",\"Other\"],[\"2011\",\"Dependent\"],[\"2011\",\"Infraction\"],[\"2011\",\"Misdemeanor\"],[\"2011\",\"Felony\"],[\"2011\",\"Other\"],[\"2012\",\"Dependent\"],[\"2012\",\"Infraction\"],[\"2012\",\"Misdemeanor\"],[\"2012\",\"Felony\"],[\"2012\",\"Other\"],[\"2013\",\"Dependent\"],[\"2013\",\"Infraction\"],[\"2013\",\"Misdemeanor\"],[\"2013\",\"Felony\"],[\"2013\",\"Other\"],[\"2014\",\"Dependent\"],[\"2014\",\"Infraction\"],[\"2014\",\"Misdemeanor\"],[\"2014\",\"Felony\"],[\"2014\",\"Other\"],[\"2015\",\"Dependent\"],[\"2015\",\"Infraction\"],[\"2015\",\"Misdemeanor\"],[\"2015\",\"Felony\"],[\"2015\",\"Other\"],[\"2016\",\"Dependent\"],[\"2016\",\"Infraction\"],[\"2016\",\"Misdemeanor\"],[\"2016\",\"Felony\"],[\"2016\",\"Other\"],[\"2017\",\"Dependent\"],[\"2017\",\"Infraction\"],[\"2017\",\"Misdemeanor\"],[\"2017\",\"Felony\"],[\"2017\",\"Other\"],[\"2018\",\"Dependent\"],[\"2018\",\"Infraction\"],[\"2018\",\"Misdemeanor\"],[\"2018\",\"Felony\"],[\"2018\",\"Other\"],[\"2019\",\"Dependent\"],[\"2019\",\"Infraction\"],[\"2019\",\"Misdemeanor\"],[\"2019\",\"Felony\"],[\"2019\",\"Other\"]],\"range_padding\":0.1},\"id\":\"1185\",\"type\":\"FactorRange\"},{\"attributes\":{},\"id\":\"1264\",\"type\":\"BasicTickFormatter\"},{\"attributes\":{\"source\":{\"id\":\"1230\",\"type\":\"ColumnDataSource\"}},\"id\":\"1234\",\"type\":\"CDSView\"},{\"attributes\":{\"formatter\":{\"id\":\"1264\",\"type\":\"BasicTickFormatter\"},\"ticker\":{\"id\":\"1201\",\"type\":\"BasicTicker\"}},\"id\":\"1200\",\"type\":\"LinearAxis\"},{\"attributes\":{\"grid_line_color\":null,\"ticker\":{\"id\":\"1197\",\"type\":\"CategoricalTicker\"}},\"id\":\"1199\",\"type\":\"Grid\"},{\"attributes\":{\"line_alpha\":0.1,\"line_color\":\"#1f77b4\",\"line_width\":2,\"x\":{\"field\":\"x\"},\"y\":{\"field\":\"y\"}},\"id\":\"1222\",\"type\":\"Line\"},{\"attributes\":{\"line_alpha\":0.1,\"line_color\":\"#1f77b4\",\"line_width\":2,\"x\":{\"field\":\"x\"},\"y\":{\"field\":\"y\"}},\"id\":\"1232\",\"type\":\"Line\"},{\"attributes\":{},\"id\":\"1276\",\"type\":\"Selection\"},{\"attributes\":{\"data_source\":{\"id\":\"1183\",\"type\":\"ColumnDataSource\"},\"glyph\":{\"id\":\"1216\",\"type\":\"VBar\"},\"hover_glyph\":null,\"muted_glyph\":null,\"nonselection_glyph\":{\"id\":\"1217\",\"type\":\"VBar\"},\"selection_glyph\":null,\"view\":{\"id\":\"1219\",\"type\":\"CDSView\"}},\"id\":\"1218\",\"type\":\"GlyphRenderer\"},{\"attributes\":{\"source\":{\"id\":\"1235\",\"type\":\"ColumnDataSource\"}},\"id\":\"1239\",\"type\":\"CDSView\"},{\"attributes\":{\"source\":{\"id\":\"1220\",\"type\":\"ColumnDataSource\"}},\"id\":\"1224\",\"type\":\"CDSView\"},{\"attributes\":{\"line_alpha\":0.1,\"line_color\":\"#1f77b4\",\"line_width\":2,\"x\":{\"field\":\"x\"},\"y\":{\"field\":\"y\"}},\"id\":\"1242\",\"type\":\"Line\"},{\"attributes\":{},\"id\":\"1194\",\"type\":\"LinearScale\"},{\"attributes\":{\"data_source\":{\"id\":\"1220\",\"type\":\"ColumnDataSource\"},\"glyph\":{\"id\":\"1221\",\"type\":\"Line\"},\"hover_glyph\":null,\"muted_glyph\":null,\"nonselection_glyph\":{\"id\":\"1222\",\"type\":\"Line\"},\"selection_glyph\":null,\"view\":{\"id\":\"1224\",\"type\":\"CDSView\"}},\"id\":\"1223\",\"type\":\"GlyphRenderer\"},{\"attributes\":{},\"id\":\"1274\",\"type\":\"Selection\"},{\"attributes\":{\"source\":{\"id\":\"1183\",\"type\":\"ColumnDataSource\"}},\"id\":\"1219\",\"type\":\"CDSView\"},{\"attributes\":{\"fill_color\":{\"value\":\"grey\"},\"line_color\":{\"value\":\"white\"},\"top\":{\"field\":\"counts2\"},\"width\":{\"value\":0.75},\"x\":{\"field\":\"x2\"}},\"id\":\"1216\",\"type\":\"VBar\"},{\"attributes\":{\"line_color\":\"#1f78b4\",\"line_width\":2,\"x\":{\"field\":\"x\"},\"y\":{\"field\":\"y\"}},\"id\":\"1226\",\"type\":\"Line\"},{\"attributes\":{\"dimension\":1,\"ticker\":{\"id\":\"1201\",\"type\":\"BasicTicker\"}},\"id\":\"1204\",\"type\":\"Grid\"},{\"attributes\":{},\"id\":\"1208\",\"type\":\"WheelPanTool\"},{\"attributes\":{\"callback\":null,\"data\":{\"counts2\":[2184,1296,106270,51154,1490,2112,377,103758,49825,1549,1966,1687,106371,50607,2658,1178,2343,96711,47878,4519,951,5881,82227,45870,4405,769,9265,75911,35698,4456,554,9618,68296,36850,2749,575,8403,60455,35929,2203,436,10466,56152,34934,2219,463,6580,49565,34253,2270],\"x2\":[[\"2010\",\"Dependent\"],[\"2010\",\"Infraction\"],[\"2010\",\"Misdemeanor\"],[\"2010\",\"Felony\"],[\"2010\",\"Other\"],[\"2011\",\"Dependent\"],[\"2011\",\"Infraction\"],[\"2011\",\"Misdemeanor\"],[\"2011\",\"Felony\"],[\"2011\",\"Other\"],[\"2012\",\"Dependent\"],[\"2012\",\"Infraction\"],[\"2012\",\"Misdemeanor\"],[\"2012\",\"Felony\"],[\"2012\",\"Other\"],[\"2013\",\"Dependent\"],[\"2013\",\"Infraction\"],[\"2013\",\"Misdemeanor\"],[\"2013\",\"Felony\"],[\"2013\",\"Other\"],[\"2014\",\"Dependent\"],[\"2014\",\"Infraction\"],[\"2014\",\"Misdemeanor\"],[\"2014\",\"Felony\"],[\"2014\",\"Other\"],[\"2015\",\"Dependent\"],[\"2015\",\"Infraction\"],[\"2015\",\"Misdemeanor\"],[\"2015\",\"Felony\"],[\"2015\",\"Other\"],[\"2016\",\"Dependent\"],[\"2016\",\"Infraction\"],[\"2016\",\"Misdemeanor\"],[\"2016\",\"Felony\"],[\"2016\",\"Other\"],[\"2017\",\"Dependent\"],[\"2017\",\"Infraction\"],[\"2017\",\"Misdemeanor\"],[\"2017\",\"Felony\"],[\"2017\",\"Other\"],[\"2018\",\"Dependent\"],[\"2018\",\"Infraction\"],[\"2018\",\"Misdemeanor\"],[\"2018\",\"Felony\"],[\"2018\",\"Other\"],[\"2019\",\"Dependent\"],[\"2019\",\"Infraction\"],[\"2019\",\"Misdemeanor\"],[\"2019\",\"Felony\"],[\"2019\",\"Other\"]]},\"selected\":{\"id\":\"1268\",\"type\":\"Selection\"},\"selection_policy\":{\"id\":\"1267\",\"type\":\"UnionRenderers\"}},\"id\":\"1183\",\"type\":\"ColumnDataSource\"},{\"attributes\":{},\"id\":\"1197\",\"type\":\"CategoricalTicker\"},{\"attributes\":{\"text\":\"Arrest Type by Year\"},\"id\":\"1187\",\"type\":\"Title\"},{\"attributes\":{\"fill_alpha\":{\"value\":0.1},\"fill_color\":{\"value\":\"#1f77b4\"},\"line_alpha\":{\"value\":0.1},\"line_color\":{\"value\":\"#1f77b4\"},\"top\":{\"field\":\"counts2\"},\"width\":{\"value\":0.75},\"x\":{\"field\":\"x2\"}},\"id\":\"1217\",\"type\":\"VBar\"},{\"attributes\":{\"callback\":null,\"data\":{\"x\":[[\"2010\",\"Infraction\"],[\"2011\",\"Infraction\"],[\"2012\",\"Infraction\"],[\"2013\",\"Infraction\"],[\"2014\",\"Infraction\"],[\"2015\",\"Infraction\"],[\"2016\",\"Infraction\"],[\"2017\",\"Infraction\"],[\"2018\",\"Infraction\"],[\"2019\",\"Infraction\"]],\"y\":[1296,377,1687,2343,5881,9265,9618,8403,10466,6580]},\"selected\":{\"id\":\"1272\",\"type\":\"Selection\"},\"selection_policy\":{\"id\":\"1271\",\"type\":\"UnionRenderers\"}},\"id\":\"1225\",\"type\":\"ColumnDataSource\"},{\"attributes\":{},\"id\":\"1192\",\"type\":\"CategoricalScale\"},{\"attributes\":{\"line_alpha\":0.1,\"line_color\":\"#1f77b4\",\"line_width\":2,\"x\":{\"field\":\"x\"},\"y\":{\"field\":\"y\"}},\"id\":\"1237\",\"type\":\"Line\"},{\"attributes\":{\"callback\":null,\"start\":0},\"id\":\"1190\",\"type\":\"DataRange1d\"},{\"attributes\":{\"formatter\":{\"id\":\"1266\",\"type\":\"CategoricalTickFormatter\"},\"major_label_orientation\":1,\"ticker\":{\"id\":\"1197\",\"type\":\"CategoricalTicker\"}},\"id\":\"1196\",\"type\":\"CategoricalAxis\"},{\"attributes\":{},\"id\":\"1207\",\"type\":\"CrosshairTool\"},{\"attributes\":{},\"id\":\"1268\",\"type\":\"Selection\"},{\"attributes\":{\"data_source\":{\"id\":\"1230\",\"type\":\"ColumnDataSource\"},\"glyph\":{\"id\":\"1231\",\"type\":\"Line\"},\"hover_glyph\":null,\"muted_glyph\":null,\"nonselection_glyph\":{\"id\":\"1232\",\"type\":\"Line\"},\"selection_glyph\":null,\"view\":{\"id\":\"1234\",\"type\":\"CDSView\"}},\"id\":\"1233\",\"type\":\"GlyphRenderer\"},{\"attributes\":{\"callback\":null,\"data\":{\"x\":[[\"2010\",\"Misdemeanor\"],[\"2011\",\"Misdemeanor\"],[\"2012\",\"Misdemeanor\"],[\"2013\",\"Misdemeanor\"],[\"2014\",\"Misdemeanor\"],[\"2015\",\"Misdemeanor\"],[\"2016\",\"Misdemeanor\"],[\"2017\",\"Misdemeanor\"],[\"2018\",\"Misdemeanor\"],[\"2019\",\"Misdemeanor\"]],\"y\":[106270,103758,106371,96711,82227,75911,68296,60455,56152,49565]},\"selected\":{\"id\":\"1274\",\"type\":\"Selection\"},\"selection_policy\":{\"id\":\"1273\",\"type\":\"UnionRenderers\"}},\"id\":\"1230\",\"type\":\"ColumnDataSource\"},{\"attributes\":{\"source\":{\"id\":\"1240\",\"type\":\"ColumnDataSource\"}},\"id\":\"1244\",\"type\":\"CDSView\"},{\"attributes\":{\"line_color\":\"#a6cee3\",\"line_width\":2,\"x\":{\"field\":\"x\"},\"y\":{\"field\":\"y\"}},\"id\":\"1221\",\"type\":\"Line\"},{\"attributes\":{},\"id\":\"1266\",\"type\":\"CategoricalTickFormatter\"},{\"attributes\":{\"data_source\":{\"id\":\"1240\",\"type\":\"ColumnDataSource\"},\"glyph\":{\"id\":\"1241\",\"type\":\"Line\"},\"hover_glyph\":null,\"muted_glyph\":null,\"nonselection_glyph\":{\"id\":\"1242\",\"type\":\"Line\"},\"selection_glyph\":null,\"view\":{\"id\":\"1244\",\"type\":\"CDSView\"}},\"id\":\"1243\",\"type\":\"GlyphRenderer\"},{\"attributes\":{\"active_drag\":\"auto\",\"active_inspect\":\"auto\",\"active_multi\":null,\"active_scroll\":\"auto\",\"active_tap\":\"auto\",\"tools\":[{\"id\":\"1205\",\"type\":\"SaveTool\"},{\"id\":\"1206\",\"type\":\"HoverTool\"},{\"id\":\"1207\",\"type\":\"CrosshairTool\"},{\"id\":\"1208\",\"type\":\"WheelPanTool\"}]},\"id\":\"1209\",\"type\":\"Toolbar\"}],\"root_ids\":[\"1186\"]},\"title\":\"Bokeh Application\",\"version\":\"1.3.4\"}};\n",
       "  var render_items = [{\"docid\":\"05d1fc7a-b9df-413c-b5a8-88fc0b9ce650\",\"roots\":{\"1186\":\"1dd57835-5e0d-428c-8136-037909c829d1\"}}];\n",
       "  root.Bokeh.embed.embed_items_notebook(docs_json, render_items);\n",
       "\n",
       "  }\n",
       "  if (root.Bokeh !== undefined) {\n",
       "    embed_document(root);\n",
       "  } else {\n",
       "    var attempts = 0;\n",
       "    var timer = setInterval(function(root) {\n",
       "      if (root.Bokeh !== undefined) {\n",
       "        embed_document(root);\n",
       "        clearInterval(timer);\n",
       "      }\n",
       "      attempts++;\n",
       "      if (attempts > 100) {\n",
       "        console.log(\"Bokeh: ERROR: Unable to run BokehJS code because BokehJS library is missing\");\n",
       "        clearInterval(timer);\n",
       "      }\n",
       "    }, 10, root)\n",
       "  }\n",
       "})(window);"
      ],
      "application/vnd.bokehjs_exec.v0+json": ""
     },
     "metadata": {
      "application/vnd.bokehjs_exec.v0+json": {
       "id": "1186"
      }
     },
     "output_type": "display_data"
    }
   ],
   "source": [
    "#exploring arrest type over time\n",
    "\n",
    "from bokeh.io import show, output_notebook\n",
    "from bokeh.models import ColumnDataSource, FactorRange, IndexFilter, CDSView, Circle, HoverTool, BoxSelectTool, Square, GroupFilter\n",
    "from bokeh.plotting import figure\n",
    "from bokeh.layouts import gridplot\n",
    "from bokeh.palettes import Paired, Viridis256\n",
    "from bokeh.models.widgets import Toggle\n",
    "\n",
    "output_notebook()\n",
    "\n",
    "#get count of types of arrests per year as int form\n",
    "#filter of number of unique arrest types for each type by year\n",
    "crime_d = df2.loc[df2['Arrest Type Code'] == 'D']\n",
    "d_by_year = pd.DataFrame(list(crime_d.groupby('arrest_year')['Report ID'].nunique()), index = [0, 1, 2, 3, 4, 5, 6, 7, 8, 9, 10])\n",
    "crime_i = df2.loc[df2['Arrest Type Code'] == 'I']\n",
    "i_by_year = pd.DataFrame(list(crime_i.groupby('arrest_year')['Report ID'].nunique()), index = [0, 1, 2, 3, 4, 5, 6, 7, 8, 9, 10])\n",
    "crime_m = df2.loc[df2['Arrest Type Code'] == 'M']\n",
    "m_by_year = pd.DataFrame(list(crime_m.groupby('arrest_year')['Report ID'].nunique()), index = [0, 1, 2, 3, 4, 5, 6, 7, 8, 9, 10])\n",
    "crime_f = df2.loc[df2['Arrest Type Code'] == 'F']\n",
    "f_by_year = pd.DataFrame(list(crime_f.groupby('arrest_year')['Report ID'].nunique()), index = [0, 1, 2, 3, 4, 5, 6, 7, 8, 9, 10])\n",
    "crime_o = df2.loc[df2['Arrest Type Code'] == 'O']\n",
    "o_by_year = pd.DataFrame(list(crime_o.groupby('arrest_year')['Report ID'].nunique()), index = [0, 1, 2, 3, 4, 5, 6, 7, 8, 9, 10])\n",
    "\n",
    "years = ['2010', '2011', '2012', '2013', '2014', '2015', '2016', '2017', '2018', '2019']\n",
    "atypes = ['Dependent', 'Infraction', 'Misdemeanor', 'Felony', 'Other']\n",
    "#note, goal is years as the bottommost x axis, split by count of arrest type per year\n",
    "data2 = {'years' : years,\n",
    "       'Dependent'  : list(map(int, d_by_year.head(10)[0])),\n",
    "       'Infraction'  : list(map(int, i_by_year.head(10)[0])),\n",
    "       'Misdemeanor'  : list(map(int, m_by_year.head(10)[0])),\n",
    "       'Felony'  : list(map(int, f_by_year.head(10)[0])),\n",
    "       'Other'  : list(map(int, o_by_year.head(10)[0]))}\n",
    "\n",
    "x2 = [ (year, atype) for year in years for atype in atypes]\n",
    "counts2 = sum(zip(data2['Dependent'], data2['Infraction'], data2['Misdemeanor'], data2['Felony'], data2['Other']), ())\n",
    "\n",
    "source2 = ColumnDataSource(data=dict(x2=x2, counts2 = counts2))\n",
    "#hmm does data=dict passes x and y? or columns\n",
    "\n",
    "#how to separate out the x2 into different fields\n",
    "TOOLTIPS = [\n",
    "    (\"Year,Arrest Type\", \"@x2\"),\n",
    "    (\"Count\", \"@counts2\"),\n",
    "]\n",
    "\n",
    "\n",
    "p = figure(x_range=FactorRange(*x2), plot_height=800, plot_width = 1900, title=\"Arrest Type by Year\",\n",
    "           toolbar_location='left',  tooltips = TOOLTIPS, tools=(\"save\", \"hover\", \"crosshair\", 'xwheel_pan'))\n",
    "#size is also misbehaving, it fit better in my own notebook, not sure why it doesn't here\n",
    "\n",
    "p.toolbar.active_scroll = \"auto\"\n",
    "\n",
    "#ok so this works for having all the bars share one color gradient, how to categorical grade?\n",
    "p.vbar(x='x2', top='counts2', width=.75, source=source2, line_color = \"white\",\n",
    "fill_color = 'grey')\n",
    "#fill_color = factor_cmap('x2', palette=Viridis256, factors = x2)) #worked in my notebook, troubleshoot later\n",
    "#looks like to instantiate each arrest type separately, need seperate vbar for each? \n",
    "\n",
    "#list of values for each category matching arrest type (can't seem to filter... list? whatever x2 is)\n",
    "#end up selecting interval lists from each x and y list(?) thing in order to link each bar\n",
    "#there's probably a better way to automate this...\n",
    "d_list = list(x2[i] for i in list(range(0, 50, 5)))\n",
    "d_count = list(counts2[i] for i in list(range(0, 50, 5)))\n",
    "\n",
    "i_list = list(x2[i] for i in list(range(1, 51, 5)))\n",
    "i_count = list(counts2[i] for i in list(range(1, 51, 5)))\n",
    "\n",
    "m_list = list(x2[i] for i in list(range(2, 52, 5)))\n",
    "m_count = list(counts2[i] for i in list(range(2, 52, 5)))\n",
    "\n",
    "f_list = list(x2[i] for i in list(range(3, 53, 5)))\n",
    "f_count = list(counts2[i] for i in list(range(3, 53, 5)))\n",
    "\n",
    "o_list = list(x2[i] for i in list(range(4, 54, 5)))\n",
    "o_count = list(counts2[i] for i in list(range(4, 54, 5)))\n",
    "\n",
    "#generates set of colors 5 long to assign to lines\n",
    "col = brewer['Paired'][5]\n",
    "\n",
    "p.line(d_list, d_count, line_width = 2, line_color = col[0])\n",
    "p.line(i_list, i_count, line_width = 2, line_color = col[1])\n",
    "p.line(m_list, m_count, line_width = 2, line_color = col[2])\n",
    "p.line(f_list, f_count, line_width = 2, line_color = col[3])\n",
    "p.line(o_list, o_count, line_width = 2, line_color = col[4])\n",
    "\n",
    "p.y_range.start = 0\n",
    "p.x_range.range_padding = 0.1\n",
    "p.xaxis.major_label_orientation = 1\n",
    "p.xgrid.grid_line_color = None\n",
    "\n",
    "show(p)\n",
    "\n",
    "#change color on hover? \n",
    "#or switch state on hover, panel between the lines and bar depending on mouseover to avoid crowding\n",
    "#break up bars by gender/ethnicity? "
   ]
  },
  {
   "cell_type": "markdown",
   "metadata": {},
   "source": [
    "\n",
    "Misdemeanors and felonies appear to decrease at a commensurate rate from 2010-2015, indicating factors discouraging these types of arrests may not apply to [infractions, dependent, and other], though the small sample size of those groups makes it difficult to determine"
   ]
  },
  {
   "cell_type": "code",
   "execution_count": 40,
   "metadata": {},
   "outputs": [
    {
     "ename": "AttributeError",
     "evalue": "'DataFrame' object has no attribute 'body_style'",
     "output_type": "error",
     "traceback": [
      "\u001b[1;31m---------------------------------------------------------------------------\u001b[0m",
      "\u001b[1;31mAttributeError\u001b[0m                            Traceback (most recent call last)",
      "\u001b[1;32m<ipython-input-40-65e84983e35f>\u001b[0m in \u001b[0;36m<module>\u001b[1;34m\u001b[0m\n\u001b[0;32m      1\u001b[0m \u001b[1;31m#crosstabulation?\u001b[0m\u001b[1;33m\u001b[0m\u001b[1;33m\u001b[0m\u001b[1;33m\u001b[0m\u001b[0m\n\u001b[1;32m----> 2\u001b[1;33m \u001b[0mpd\u001b[0m\u001b[1;33m.\u001b[0m\u001b[0mcrosstab\u001b[0m\u001b[1;33m(\u001b[0m\u001b[0mdf2\u001b[0m\u001b[1;33m,\u001b[0m \u001b[0mdf2\u001b[0m\u001b[1;33m.\u001b[0m\u001b[0mbody_style\u001b[0m\u001b[1;33m)\u001b[0m\u001b[1;33m\u001b[0m\u001b[1;33m\u001b[0m\u001b[0m\n\u001b[0m",
      "\u001b[1;32mD:\\Anaconda\\lib\\site-packages\\pandas\\core\\generic.py\u001b[0m in \u001b[0;36m__getattr__\u001b[1;34m(self, name)\u001b[0m\n\u001b[0;32m   5177\u001b[0m             \u001b[1;32mif\u001b[0m \u001b[0mself\u001b[0m\u001b[1;33m.\u001b[0m\u001b[0m_info_axis\u001b[0m\u001b[1;33m.\u001b[0m\u001b[0m_can_hold_identifiers_and_holds_name\u001b[0m\u001b[1;33m(\u001b[0m\u001b[0mname\u001b[0m\u001b[1;33m)\u001b[0m\u001b[1;33m:\u001b[0m\u001b[1;33m\u001b[0m\u001b[1;33m\u001b[0m\u001b[0m\n\u001b[0;32m   5178\u001b[0m                 \u001b[1;32mreturn\u001b[0m \u001b[0mself\u001b[0m\u001b[1;33m[\u001b[0m\u001b[0mname\u001b[0m\u001b[1;33m]\u001b[0m\u001b[1;33m\u001b[0m\u001b[1;33m\u001b[0m\u001b[0m\n\u001b[1;32m-> 5179\u001b[1;33m             \u001b[1;32mreturn\u001b[0m \u001b[0mobject\u001b[0m\u001b[1;33m.\u001b[0m\u001b[0m__getattribute__\u001b[0m\u001b[1;33m(\u001b[0m\u001b[0mself\u001b[0m\u001b[1;33m,\u001b[0m \u001b[0mname\u001b[0m\u001b[1;33m)\u001b[0m\u001b[1;33m\u001b[0m\u001b[1;33m\u001b[0m\u001b[0m\n\u001b[0m\u001b[0;32m   5180\u001b[0m \u001b[1;33m\u001b[0m\u001b[0m\n\u001b[0;32m   5181\u001b[0m     \u001b[1;32mdef\u001b[0m \u001b[0m__setattr__\u001b[0m\u001b[1;33m(\u001b[0m\u001b[0mself\u001b[0m\u001b[1;33m,\u001b[0m \u001b[0mname\u001b[0m\u001b[1;33m,\u001b[0m \u001b[0mvalue\u001b[0m\u001b[1;33m)\u001b[0m\u001b[1;33m:\u001b[0m\u001b[1;33m\u001b[0m\u001b[1;33m\u001b[0m\u001b[0m\n",
      "\u001b[1;31mAttributeError\u001b[0m: 'DataFrame' object has no attribute 'body_style'"
     ]
    }
   ],
   "source": [
    "#crosstabulation? \n",
    "pd.crosstab(df2, df2.body_style)"
   ]
  },
  {
   "cell_type": "markdown",
   "metadata": {},
   "source": [
    "##### Age by Sex Code\n",
    "\n",
    "The KDE plot below shows the distributionn of Ages for Males compared with Females. While similar distributions are seen for males and females, a greater proportion of female arrests occur at young ages than males."
   ]
  },
  {
   "cell_type": "code",
   "execution_count": null,
   "metadata": {},
   "outputs": [],
   "source": [
    "plt.figure(figsize = (8, 4))\n",
    "\n",
    "# KDE Plot of males\n",
    "sns.kdeplot(df.loc[df['Sex Code'] == 'M', 'Age'], label = 'Males')\n",
    "\n",
    "# KDE plot of females                   \n",
    "sns.kdeplot(df.loc[df['Sex Code'] == 'F', 'Age'], label = 'Females')\n",
    "\n",
    "# Labels\n",
    "plt.xlabel('Age in years'); plt.ylabel('Density'); plt.title('Distribution of Ages');"
   ]
  },
  {
   "cell_type": "markdown",
   "metadata": {},
   "source": [
    "##### Age by Arrest Type Code\n",
    "\n",
    "Plotting Age by `Arrest Type Code` highlights a strong correlation between the Dependent arrest type and younger individuals. There are records where a young individual is arrested wwith a different `Arrest Type Code`, but the majority of young individuals arrested with a Dependent `Arrest Type Code`. "
   ]
  },
  {
   "cell_type": "code",
   "execution_count": null,
   "metadata": {},
   "outputs": [],
   "source": [
    "plt.figure(figsize = (15, 5))\n",
    "\n",
    "# KDE Plot of Dependent Arrest Code\n",
    "sns.kdeplot(df.loc[df['Arrest Type Code'] == 'D', 'Age'], label = 'Dependent')\n",
    "\n",
    "# KDE plot of Felony Arrest Code                   \n",
    "sns.kdeplot(df.loc[df['Arrest Type Code'] == 'F', 'Age'], label = 'Felony')\n",
    "\n",
    "# KDE plot of Infraction Arrest Code                   \n",
    "sns.kdeplot(df.loc[df['Arrest Type Code'] == 'I', 'Age'], label = 'Infraction')\n",
    "\n",
    "# KDE plot of Misdemeanor Arrest Code                   \n",
    "sns.kdeplot(df.loc[df['Arrest Type Code'] == 'M', 'Age'], label = 'Misdemeanor')\n",
    "\n",
    "# KDE plot of Other Arrest Code                   \n",
    "sns.kdeplot(df.loc[df['Arrest Type Code'] == 'O', 'Age'], label = 'Other')\n",
    "\n",
    "# Labels\n",
    "plt.xlabel('Age in years'); plt.ylabel('Density'); plt.title('Distribution of Ages by Arrest Type Code');"
   ]
  },
  {
   "cell_type": "markdown",
   "metadata": {},
   "source": [
    "We will treat the observations where age is less than 16 as possible data entry errors. Due to this assumption and the close relationship between `Age` and the `Arrest Type Code` Dependent we will filter out observations with `Age` less than 16 or observations with `Arrest Type Code` of Dependent. We have choosen to not impute the values since we have such a large dataset."
   ]
  },
  {
   "cell_type": "code",
   "execution_count": null,
   "metadata": {},
   "outputs": [],
   "source": [
    "# Drop the observations where Age is less than 16\n",
    "df.drop(df[df['Age'] < 16].index, inplace = True) \n",
    "df.drop(df[df['Arrest Type Code'] == 'D'].index, inplace = True) \n",
    "\n",
    "print(\"The data set has {:,} rows and {:,} columns after filtering on Age and Arrest Type Code.\".format(*df.shape))"
   ]
  },
  {
   "cell_type": "markdown",
   "metadata": {},
   "source": [
    "#### Descent Code\n",
    "##### Kernel Density Estimate Plot of Age by Descent Code"
   ]
  },
  {
   "cell_type": "code",
   "execution_count": null,
   "metadata": {},
   "outputs": [],
   "source": [
    "plt.figure(figsize = (15, 5))\n",
    "\n",
    "# KDE Plots Age by Descent Code\n",
    "sns.kdeplot(df.loc[df['Descent Code'] == 'B', 'Age'], label = 'Black')\n",
    "sns.kdeplot(df.loc[df['Descent Code'] == 'H', 'Age'], label = 'Hispanic')\n",
    "sns.kdeplot(df.loc[df['Descent Code'] == 'W', 'Age'], label = 'White')\n",
    "sns.kdeplot(df.loc[df['Descent Code'] == 'I', 'Age'], label = 'American Indian/Alaskan Native')\n",
    "sns.kdeplot(df.loc[df['Descent Code'] == 'O', 'Age'], label = 'Other')\n",
    "\n",
    "# CN: Still working on these:\n",
    "#Asian = ['A', 'C', 'D', 'G', 'F', 'J', 'K', 'L', 'V', 'Z']\n",
    "#PacificIslander = ['G', 'S', 'P', 'U']\n",
    "\n",
    "#sns.kdeplot(df[df['Descent Code'].isin(Asian), 'Age'], label = 'Asian')\n",
    "#sns.kdeplot(df[df['Descent Code'].isin(PacificIslander), 'Age'], label = 'Pacific Islander')\n",
    "\n",
    "\n",
    "# Labels\n",
    "plt.xlabel('Age in years'); plt.ylabel('Density'); plt.title('Distribution of Ages by Descent Code');"
   ]
  },
  {
   "cell_type": "code",
   "execution_count": null,
   "metadata": {},
   "outputs": [],
   "source": [
    "plt.figure(figsize = (15, 5))\n",
    "\n",
    "# KDE Plots Age by Arrest Year\n",
    "sns.kdeplot(df.loc[df['arrest_year'] == 2010, 'Age'], label = '2010')\n",
    "sns.kdeplot(df.loc[df['arrest_year'] == 2011, 'Age'], label = '2011')\n",
    "sns.kdeplot(df.loc[df['arrest_year'] == 2012, 'Age'], label = '2012')\n",
    "sns.kdeplot(df.loc[df['arrest_year'] == 2013, 'Age'], label = '2013')\n",
    "sns.kdeplot(df.loc[df['arrest_year'] == 2014, 'Age'], label = '2014')\n",
    "sns.kdeplot(df.loc[df['arrest_year'] == 2015, 'Age'], label = '2015')\n",
    "sns.kdeplot(df.loc[df['arrest_year'] == 2016, 'Age'], label = '2016')\n",
    "sns.kdeplot(df.loc[df['arrest_year'] == 2017, 'Age'], label = '2017')\n",
    "sns.kdeplot(df.loc[df['arrest_year'] == 2018, 'Age'], label = '2018')\n",
    "sns.kdeplot(df.loc[df['arrest_year'] == 2019, 'Age'], label = '2019')\n",
    "\n",
    "# Labels\n",
    "plt.xlabel('Age in years'); plt.ylabel('Density'); plt.title('Distribution of Ages by Arrest Year');"
   ]
  },
  {
   "cell_type": "code",
   "execution_count": null,
   "metadata": {},
   "outputs": [],
   "source": [
    "# Sex plot\n",
    "arrests_by_code = df[\"Sex Code\"].value_counts()\n",
    "arrests_by_code.sort_values().plot(kind='barh')\n",
    "plt.title('Arrests by Sex')\n",
    "plt.ylabel('Sex')\n",
    "plt.xlabel('Arrests')"
   ]
  },
  {
   "cell_type": "code",
   "execution_count": null,
   "metadata": {},
   "outputs": [],
   "source": [
    "# cross tabulate example from http://nbviewer.ipython.org/gist/fonnesbeck/5850463# \n",
    "%matplotlib inline\n",
    "counts = pd.crosstab([df['Arrest Type Code']], df['Sex Code'])\n",
    "counts.plot(kind='bar', stacked=True)\n",
    "\n",
    "# divide the counts to get rates\n",
    "rate = counts.div(counts.sum(1).astype(float),axis=0)\n",
    "rate.plot(kind='barh', stacked=True)"
   ]
  },
  {
   "cell_type": "code",
   "execution_count": null,
   "metadata": {},
   "outputs": [],
   "source": [
    "# Descent code plot\n",
    "arrests_by_code = df[\"Descent Code\"].value_counts()\n",
    "arrests_by_code.sort_values().plot(kind='barh')\n",
    "plt.title('Arrests by Descent Code')\n",
    "plt.ylabel('Descent Code')\n",
    "plt.xlabel('Arrests')"
   ]
  },
  {
   "cell_type": "code",
   "execution_count": null,
   "metadata": {},
   "outputs": [],
   "source": [
    "# cross tabulate example from http://nbviewer.ipython.org/gist/fonnesbeck/5850463# \n",
    "%matplotlib inline\n",
    "counts = pd.crosstab(df['Descent Code'], df['Sex Code'])\n",
    "counts.plot(kind='bar', stacked=True)\n",
    "\n",
    "# divide the counts to get rates\n",
    "rate = counts.div(counts.sum(1).astype(float),axis=0)\n",
    "rate.plot(kind='barh', stacked=True)"
   ]
  },
  {
   "cell_type": "code",
   "execution_count": null,
   "metadata": {},
   "outputs": [],
   "source": [
    "%matplotlib inline\n",
    "descent = ['B','H','O','W']\n",
    "descent_code = df[df['Descent Code'].isin(descent)]\n",
    "descent_code.head()\n",
    "# cross tabulate example from http://nbviewer.ipython.org/gist/fonnesbeck/5850463# \n",
    "counts = pd.crosstab([descent_code['Descent Code'],descent_code['Arrest Type Code']], descent_code['Sex Code'])\n",
    "counts.plot(kind='bar', stacked=True)\n",
    "\n",
    "# divide the counts to get rates\n",
    "rate = counts.div(counts.sum(1).astype(float),axis=0)\n",
    "rate.plot(kind='barh', stacked=True)"
   ]
  },
  {
   "cell_type": "markdown",
   "metadata": {},
   "source": [
    "##### Arrests by Gender and Day of Week"
   ]
  },
  {
   "cell_type": "code",
   "execution_count": null,
   "metadata": {},
   "outputs": [],
   "source": [
    "# define colors\n",
    "coral = '#f88c8c'\n",
    "lightgreen = '#99ee98'"
   ]
  },
  {
   "cell_type": "code",
   "execution_count": null,
   "metadata": {},
   "outputs": [],
   "source": [
    "pd.crosstab(index=df['arrest_day_of_week'], columns=df['Sex Code']).style.format(\"{:,.0f}\").highlight_max(color=lightgreen).highlight_min(color=coral)"
   ]
  },
  {
   "cell_type": "code",
   "execution_count": null,
   "metadata": {},
   "outputs": [],
   "source": [
    "sns.set(rc={'figure.figsize':(20,35)})\n",
    "\n",
    "# Violin Plot\n",
    "sns.catplot(x = \"Age\",\n",
    "           y = \"arrest_day_of_week\",\n",
    "           hue = \"Sex Code\",\n",
    "           kind = \"violin\",\n",
    "           data = df,\n",
    "           height = 8);\n",
    "\n",
    "# Labels\n",
    "plt.xlabel('Age in years'); plt.ylabel('Day of Week'); plt.title('Distribution of Ages by Gender and Day of Week');"
   ]
  },
  {
   "cell_type": "code",
   "execution_count": null,
   "metadata": {},
   "outputs": [],
   "source": [
    "# cross tab of arrests by Gender, Arrest Type Code, and Day of Week\n",
    "pd.crosstab(index=df['arrest_day_of_week'], \n",
    "            columns=[df['Sex Code'], \n",
    "                     df['Arrest Type Code']], \n",
    "            colnames=['Sex Code','Arrest Type Code']).style.format(\"{:,.0f}\").highlight_max(color = lightgreen).highlight_min(color = coral)"
   ]
  },
  {
   "cell_type": "code",
   "execution_count": null,
   "metadata": {},
   "outputs": [],
   "source": [
    "# Violin plot\n",
    "sns.catplot(x = \"Age\",\n",
    "           y = \"Arrest Type Code\",\n",
    "           hue = \"Sex Code\",\n",
    "           kind = \"violin\",\n",
    "           data = df,\n",
    "           height = 8);\n",
    "\n",
    "# Labels\n",
    "plt.xlabel('Age in years'); plt.ylabel('Arrest Type Code'); plt.title('Distribution of Ages by Gender and Arrest Type Code');"
   ]
  },
  {
   "cell_type": "code",
   "execution_count": null,
   "metadata": {},
   "outputs": [],
   "source": [
    "#CN: Something is broken with this one. Need to keep working on it.\n",
    "#Violin Plot\n",
    "#sns.catplot(x = \"Age\",\n",
    "#           y = df[\"Descent Code\"],\n",
    "#           hue = \"Sex Code\",\n",
    "#           kind = \"violin\",\n",
    "#           data = df,\n",
    "#           height = 8);\n",
    "\n",
    "# Labels\n",
    "#plt.xlabel('Age in years'); plt.ylabel('Descent Code'); plt.title('Distribution of Ages by Gender and Descent Code');"
   ]
  },
  {
   "cell_type": "code",
   "execution_count": null,
   "metadata": {},
   "outputs": [],
   "source": [
    "%matplotlib inline\n",
    "fig = plt.figure(figsize=(16,18))\n",
    "ax = plt.subplot(2,2,1)\n",
    "gdf1.plot(column='Male_Counts', ax=ax, cmap='plasma', legend=True, vmax = 16000)\n",
    "ax.set_title('Male Arrests by District')\n",
    "ax.set_aspect('equal')\n",
    "\n",
    "ax = plt.subplot(2,2,2)\n",
    "gdf1.plot(column='Female_Counts', ax=ax, cmap='plasma', legend=True, vmax = 16000)\n",
    "ax.set_title('Female Arrests by District')\n",
    "ax.set_aspect('equal')\n",
    "\n",
    "plt.tight_layout()\n",
    "plt.show()"
   ]
  },
  {
   "cell_type": "code",
   "execution_count": null,
   "metadata": {},
   "outputs": [],
   "source": [
    "%matplotlib inline\n",
    "fig = plt.figure(figsize=(12,14))\n",
    "ax = plt.subplot(2,2,1)\n",
    "gdf1.plot(column='Felony_Counts', ax=ax, cmap='plasma', legend=True, vmax = 14000)\n",
    "ax.set_title('Felony Arrests by District')\n",
    "ax.set_aspect('equal')\n",
    "\n",
    "ax = plt.subplot(2,2,2)\n",
    "gdf1.plot(column='Misdemeanor_Counts', ax=ax, cmap='plasma', legend=True, vmax = 14000)\n",
    "ax.set_title('Misdemeanor Arrests by District')\n",
    "ax.set_aspect('equal')\n",
    "\n",
    "ax = plt.subplot(2,2,3)\n",
    "gdf1.plot(column='Infraction_Counts', ax=ax, cmap='plasma', legend=True, vmax = 14000)\n",
    "ax.set_title('Infraction Arrests by District')\n",
    "ax.set_aspect('equal')\n",
    "\n",
    "ax = plt.subplot(2,2,4)\n",
    "gdf1.plot(column='Other_Counts', ax=ax, cmap='plasma', legend=True, vmax = 14000)\n",
    "ax.set_title('Other Arrests by District')\n",
    "ax.set_aspect('equal')\n",
    "\n",
    "plt.tight_layout()\n",
    "plt.show()"
   ]
  },
  {
   "cell_type": "code",
   "execution_count": null,
   "metadata": {},
   "outputs": [],
   "source": [
    "#https://towardsdatascience.com/a-complete-guide-to-an-interactive-geographical-map-using-python-f4c5197e23e0\n",
    "#https://github.com/CrazyDaffodils/Interactive-Choropleth-Map-Using-Python\n",
    "\n",
    "#Read data to json\n",
    "merged_json = json.loads(gdf2.to_json())\n",
    "\n",
    "#Convert to str like object\n",
    "json_data = json.dumps(merged_json)"
   ]
  },
  {
   "cell_type": "code",
   "execution_count": null,
   "metadata": {},
   "outputs": [],
   "source": [
    "#Define function that returns json_data for year selected by user.\n",
    "    \n",
    "def json_data(selectedYear):\n",
    "    yr = selectedYear\n",
    "    df_yr = gdf2[gdf2['Year'] == yr]\n",
    "    #merged = gdf.merge(df_yr, left_on = 'country_code', right_on = 'code', how = 'left')\n",
    "    #merged.fillna('No data', inplace = True)\n",
    "    merged_json = json.loads(df_yr.to_json())\n",
    "    json_data = json.dumps(merged_json)\n",
    "    return json_data\n",
    "\n",
    "#Input GeoJSON source that contains features for plotting.\n",
    "geosource = GeoJSONDataSource(geojson = json_data(2010))\n",
    "\n",
    "#Define a sequential multi-hue color palette.\n",
    "palette = brewer['YlGnBu'][9]\n",
    "\n",
    "#Reverse color order so that dark blue is highest obesity.\n",
    "#palette = palette[::-1]\n",
    "\n",
    "#Instantiate LinearColorMapper that linearly maps numbers in a range, into a sequence of colors. Input nan_color.\n",
    "color_mapper = LinearColorMapper(palette = palette, low = 0, high = 2500)\n",
    "\n",
    "#Define custom tick labels for color bar.\n",
    "#tick_labels = {'0': '0%', '5': '5%', '10':'10%', '15':'15%', '20':'20%', '25':'25%', '30':'30%','35':'35%', '40': '>40%'}\n",
    "\n",
    "#Add hover tool\n",
    "hover = HoverTool(tooltips = [ ('Reporting District','@REPDIST'),('Arrests', '@Year_Dist_Counts')])\n",
    "\n",
    "\n",
    "#Create color bar. \n",
    "color_bar = ColorBar(color_mapper=color_mapper, label_standoff=8,width = 500, height = 20,\n",
    "                     border_line_color=None,location = (0,0), orientation = 'horizontal')\n",
    "\n",
    "\n",
    "#Create figure object.\n",
    "p = figure(title = 'Los Angeles Arrests by Reporting District', plot_height = 850 , plot_width = 600, toolbar_location = None, tools = [hover])\n",
    "p.xgrid.grid_line_color = None\n",
    "p.ygrid.grid_line_color = None\n",
    "\n",
    "#Add patch renderer to figure. \n",
    "p.patches('xs','ys', source = geosource,fill_color = {'field' :'Year_Dist_Counts', 'transform' : color_mapper},\n",
    "          line_color = 'black', line_width = 0.25, fill_alpha = 1)\n",
    "\n",
    "\n",
    "p.add_layout(color_bar, 'below')\n",
    "\n",
    "# Define the callback function: update_plot\n",
    "def update_plot(attr, old, new):\n",
    "    yr = slider.value\n",
    "    new_data = json_data(yr)\n",
    "    geosource.geojson = new_data\n",
    "    p.title.text = 'Arrest Counts' %yr\n",
    "    \n",
    "# Make a slider object: slider \n",
    "slider = Slider(title = 'Year',start = 2010, end = 2019, step = 1, value = 2010)\n",
    "slider.on_change('value', update_plot)\n",
    "\n",
    "# Make a column layout of widgetbox(slider) and plot, and add it to the current document\n",
    "layout = column(p,widgetbox(slider))\n",
    "curdoc().add_root(layout)\n",
    "\n",
    "#Display plot inline in Jupyter notebook\n",
    "output_notebook()\n",
    "\n",
    "#Display plot\n",
    "show(layout)"
   ]
  },
  {
   "cell_type": "markdown",
   "metadata": {},
   "source": [
    "### Explore Attributes and Class\n",
    "*(10 points)*  \n",
    "*Identify and explain interesting relationships between features and the class you are trying to predict (i.e., relationships with variables and the target classification).*"
   ]
  },
  {
   "cell_type": "markdown",
   "metadata": {},
   "source": [
    "### New Features\n",
    "*(5 points)*  \n",
    "*Are there other features that could be added to the data or created from\n",
    "existing features? Which ones?*"
   ]
  },
  {
   "cell_type": "markdown",
   "metadata": {},
   "source": [
    "## Exceptional Work\n",
    "*(10 points)*  \n",
    "• *You have free reign to provide additional analyses.  \n",
    "• One idea: implement dimensionality reduction, then visualize and interpret the results.*"
   ]
  },
  {
   "cell_type": "markdown",
   "metadata": {},
   "source": [
    "Distribution of ethnicities from the arrest data compared to Los Angeles 2010 Census findings. The [U.S. Census Bureau](https://www.census.gov/quickfacts/fact/note/US/RHI425218) counts Hispanic origin separate from race, as the category may overlap with other listed demographics. Representation of each ethnicity appears to match with percent distribution national arrest rates from the [FBI](https://ucr.fbi.gov/crime-in-the-u.s/2010/crime-in-the-u.s.-2010/tables/table-43/10tbl43a.xls)\n",
    "\n",
    "Note: Federal level population data is not as complete as source data; many ethnicies are not listed\n",
    "\n",
    "**Table 2: Demographic Breakdown of Arrests from 2010-Present in Los Angeles County**\n",
    "\n",
    "|Descent Code|Ethnicity|Total Arrests|Percentage of Arrests|2010 Census Percentage of Population|2010 FBI Percentage of Arrests|\n",
    "|:---:|:---:|:---:|:---:|:---:|:---:|\n",
    "|A|Other Asian|5362|0.40%|1.2%|\n",
    "|B|Black|380922|28.75%|8.7%|28%|\n",
    "|C|Chinese|836|0.06%|\n",
    "|D|Cambodian|2|0.00%\n",
    "|F|Filipino|933|0.07%\n",
    "|G|Guamanian|53|0.00%\n",
    "|H|Hispanic/Latin/Mexican|618150|46.65%|47.5%\n",
    "|I|American Indian/Alaskan Native|284|0.02%|0.5%|1.4%\n",
    "|J|Japanese|168|0.01%\n",
    "|K|Korean|1114|0.08%\n",
    "|L|Laotian|6|0.00%\n",
    "|O|Other|68067|5.14%\n",
    "|P|Pacific Islander|179|0.01%\n",
    "|S|Samoan|11|0.00%\n",
    "|U|Hawaiian|7|0.00%\n",
    "|V|Vietnamese|18|0.00%\n",
    "|W|White|248742|18.77%|52.4%|69.4%\n",
    "|X|Unknown|112|0.01%\n",
    "|Z|Asian Indian|7|0.00%\n",
    "\n",
    "# From [Wikipedia](https://en.wikipedia.org/wiki/Demographics_of_Los_Angeles_County)   \n",
    "\n",
    "The demographics of Los Angeles County include a diverse people by race, ethnicity, and nationality. The 2010 United States Census reported that Los Angeles County had a population of 9,818,605. The racial makeup of Los Angeles County was 4,936,599 (50.3%) White, 856,874 (8.7%) African American, 72,828 (0.7%) Native American, 1,346,865 (13.7%) Asian (4.0% Chinese, 3.3% Filipino, 2.2% Korean, 1.0% Japanese, 0.9% Vietnamese, 0.8% Indian, 0.3% Cambodian, 0.3% Thai, 0.1% Pakistani), 26,094 (0.3%) Pacific Islander (0.1% Samoan), 2,140,632 (21.8%) from other races, and 438,713 (4.5%) from two or more races.\n",
    "\n",
    "Total 2010 Los Angeles County Population: 10,116,705\n",
    "\n",
    "We can see that hispanic and black arrests make up the majority of "
   ]
  }
 ],
 "metadata": {
  "kernelspec": {
   "display_name": "Python 3",
   "language": "python",
   "name": "python3"
  },
  "language_info": {
   "codemirror_mode": {
    "name": "ipython",
    "version": 3
   },
   "file_extension": ".py",
   "mimetype": "text/x-python",
   "name": "python",
   "nbconvert_exporter": "python",
   "pygments_lexer": "ipython3",
   "version": "3.7.4"
  }
 },
 "nbformat": 4,
 "nbformat_minor": 2
}
